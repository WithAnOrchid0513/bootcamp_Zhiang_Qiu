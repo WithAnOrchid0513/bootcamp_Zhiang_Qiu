{
 "cells": [
  {
   "cell_type": "code",
   "id": "initial_id",
   "metadata": {
    "collapsed": true,
    "ExecuteTime": {
     "end_time": "2025-08-20T02:32:37.594490Z",
     "start_time": "2025-08-20T02:32:37.589362Z"
    }
   },
   "source": [
    "import os\n",
    "import pandas as pd\n",
    "import numpy as np\n",
    "from sklearn.preprocessing import MinMaxScaler, StandardScaler\n",
    "\n",
    "def fill_missing_median(df, columns=None):\n",
    "    df_copy = df.copy()\n",
    "    if columns is None:\n",
    "        columns = df.select_dtypes(include=np.number).columns\n",
    "    for col in columns:\n",
    "        df_copy[col] = df_copy[col].fillna(df_copy[col].median())\n",
    "    return df_copy\n",
    "\n",
    "def drop_missing(df, columns=None, threshold=None):\n",
    "    df_copy = df.copy()\n",
    "    if columns is not None:\n",
    "        return df_copy.dropna(subset=columns)\n",
    "    if threshold is not None:\n",
    "        return df_copy.dropna(thresh=int(threshold*df_copy.shape[1]))\n",
    "    return df_copy.dropna()\n",
    "\n",
    "def normalize_data(df, columns=None, method='minmax'):\n",
    "    df_copy = df.copy()\n",
    "    if columns is None:\n",
    "        columns = df_copy.select_dtypes(include=np.number).columns\n",
    "    if method=='minmax':\n",
    "        scaler = MinMaxScaler()\n",
    "    else:\n",
    "        scaler = StandardScaler()\n",
    "    df_copy[columns] = scaler.fit_transform(df_copy[columns])\n",
    "    return df_copy"
   ],
   "outputs": [],
   "execution_count": 13
  },
  {
   "metadata": {
    "ExecuteTime": {
     "end_time": "2025-08-20T02:32:40.938968Z",
     "start_time": "2025-08-20T02:32:40.926060Z"
    }
   },
   "cell_type": "code",
   "source": [
    "# Define folder paths relative to this notebook\n",
    "raw_dir = '../data/raw'\n",
    "processed_dir = '../data/processed'\n",
    "\n",
    "# Create folders if they don't exist\n",
    "os.makedirs(raw_dir, exist_ok=True)\n",
    "os.makedirs(processed_dir, exist_ok=True)\n",
    "\n",
    "# Define the sample data\n",
    "data = {\n",
    "    'age': [34, 45, 29, 50, 38, np.nan, 41],\n",
    "    'income': [55000, np.nan, 42000, 58000, np.nan, np.nan, 49000],\n",
    "    'score': [0.82, 0.91, np.nan, 0.76, 0.88, 0.65, 0.79],\n",
    "    'zipcode': ['90210', '10001', '60614', '94103', '73301', '12345', '94105'],\n",
    "    'city': ['Beverly', 'New York', 'Chicago', 'SF', 'Austin', 'Unknown', 'San Francisco'],\n",
    "    'extra_data': [np.nan, 42, np.nan, np.nan, np.nan, 5, np.nan]\n",
    "}\n",
    "\n",
    "# Create DataFrame\n",
    "df = pd.DataFrame(data)\n",
    "\n",
    "# Save to CSV in raw data folder\n",
    "csv_path = os.path.join(raw_dir, 'sample_data.csv')\n",
    "if not os.path.exists(csv_path):\n",
    "    df.to_csv(csv_path, index=False)\n",
    "    print(f'Sample dataset created and saved to {csv_path}')\n",
    "else:\n",
    "    print(f'File already exists at {csv_path}. Skipping CSV creation to avoid overwrite.')\n"
   ],
   "id": "4b9700a6c2571ead",
   "outputs": [
    {
     "name": "stdout",
     "output_type": "stream",
     "text": [
      "Sample dataset created and saved to ../data/raw/sample_data.csv\n"
     ]
    }
   ],
   "execution_count": 14
  },
  {
   "metadata": {
    "ExecuteTime": {
     "end_time": "2025-08-20T02:33:52.153682Z",
     "start_time": "2025-08-20T02:33:52.146580Z"
    }
   },
   "cell_type": "code",
   "source": "df",
   "id": "2e6f94f742253f6",
   "outputs": [
    {
     "data": {
      "text/plain": [
       "    age   income  score zipcode           city  extra_data\n",
       "0  34.0  55000.0   0.82   90210        Beverly         NaN\n",
       "1  45.0      NaN   0.91   10001       New York        42.0\n",
       "2  29.0  42000.0    NaN   60614        Chicago         NaN\n",
       "3  50.0  58000.0   0.76   94103             SF         NaN\n",
       "4  38.0      NaN   0.88   73301         Austin         NaN\n",
       "5   NaN      NaN   0.65   12345        Unknown         5.0\n",
       "6  41.0  49000.0   0.79   94105  San Francisco         NaN"
      ],
      "text/html": [
       "<div>\n",
       "<style scoped>\n",
       "    .dataframe tbody tr th:only-of-type {\n",
       "        vertical-align: middle;\n",
       "    }\n",
       "\n",
       "    .dataframe tbody tr th {\n",
       "        vertical-align: top;\n",
       "    }\n",
       "\n",
       "    .dataframe thead th {\n",
       "        text-align: right;\n",
       "    }\n",
       "</style>\n",
       "<table border=\"1\" class=\"dataframe\">\n",
       "  <thead>\n",
       "    <tr style=\"text-align: right;\">\n",
       "      <th></th>\n",
       "      <th>age</th>\n",
       "      <th>income</th>\n",
       "      <th>score</th>\n",
       "      <th>zipcode</th>\n",
       "      <th>city</th>\n",
       "      <th>extra_data</th>\n",
       "    </tr>\n",
       "  </thead>\n",
       "  <tbody>\n",
       "    <tr>\n",
       "      <th>0</th>\n",
       "      <td>34.0</td>\n",
       "      <td>55000.0</td>\n",
       "      <td>0.82</td>\n",
       "      <td>90210</td>\n",
       "      <td>Beverly</td>\n",
       "      <td>NaN</td>\n",
       "    </tr>\n",
       "    <tr>\n",
       "      <th>1</th>\n",
       "      <td>45.0</td>\n",
       "      <td>NaN</td>\n",
       "      <td>0.91</td>\n",
       "      <td>10001</td>\n",
       "      <td>New York</td>\n",
       "      <td>42.0</td>\n",
       "    </tr>\n",
       "    <tr>\n",
       "      <th>2</th>\n",
       "      <td>29.0</td>\n",
       "      <td>42000.0</td>\n",
       "      <td>NaN</td>\n",
       "      <td>60614</td>\n",
       "      <td>Chicago</td>\n",
       "      <td>NaN</td>\n",
       "    </tr>\n",
       "    <tr>\n",
       "      <th>3</th>\n",
       "      <td>50.0</td>\n",
       "      <td>58000.0</td>\n",
       "      <td>0.76</td>\n",
       "      <td>94103</td>\n",
       "      <td>SF</td>\n",
       "      <td>NaN</td>\n",
       "    </tr>\n",
       "    <tr>\n",
       "      <th>4</th>\n",
       "      <td>38.0</td>\n",
       "      <td>NaN</td>\n",
       "      <td>0.88</td>\n",
       "      <td>73301</td>\n",
       "      <td>Austin</td>\n",
       "      <td>NaN</td>\n",
       "    </tr>\n",
       "    <tr>\n",
       "      <th>5</th>\n",
       "      <td>NaN</td>\n",
       "      <td>NaN</td>\n",
       "      <td>0.65</td>\n",
       "      <td>12345</td>\n",
       "      <td>Unknown</td>\n",
       "      <td>5.0</td>\n",
       "    </tr>\n",
       "    <tr>\n",
       "      <th>6</th>\n",
       "      <td>41.0</td>\n",
       "      <td>49000.0</td>\n",
       "      <td>0.79</td>\n",
       "      <td>94105</td>\n",
       "      <td>San Francisco</td>\n",
       "      <td>NaN</td>\n",
       "    </tr>\n",
       "  </tbody>\n",
       "</table>\n",
       "</div>"
      ]
     },
     "execution_count": 17,
     "metadata": {},
     "output_type": "execute_result"
    }
   ],
   "execution_count": 17
  },
  {
   "metadata": {
    "ExecuteTime": {
     "end_time": "2025-08-20T02:33:13.595545Z",
     "start_time": "2025-08-20T02:33:13.570538Z"
    }
   },
   "cell_type": "code",
   "source": [
    "# clean the data\n",
    "df_cleaned = df.copy()\n",
    "df_cleaned = fill_missing_median(df_cleaned)\n",
    "df_cleaned = drop_missing(df_cleaned, threshold=0.5)\n",
    "df_cleaned = normalize_data(df_cleaned)\n",
    "\n",
    "# Inspect\n",
    "df_cleaned.info()"
   ],
   "id": "6419d9e85ab269e0",
   "outputs": [
    {
     "name": "stdout",
     "output_type": "stream",
     "text": [
      "<class 'pandas.core.frame.DataFrame'>\n",
      "RangeIndex: 7 entries, 0 to 6\n",
      "Data columns (total 6 columns):\n",
      " #   Column      Non-Null Count  Dtype  \n",
      "---  ------      --------------  -----  \n",
      " 0   age         7 non-null      float64\n",
      " 1   income      7 non-null      float64\n",
      " 2   score       7 non-null      float64\n",
      " 3   zipcode     7 non-null      object \n",
      " 4   city        7 non-null      object \n",
      " 5   extra_data  7 non-null      float64\n",
      "dtypes: float64(4), object(2)\n",
      "memory usage: 464.0+ bytes\n"
     ]
    }
   ],
   "execution_count": 15
  },
  {
   "metadata": {
    "ExecuteTime": {
     "end_time": "2025-08-20T02:33:19.445359Z",
     "start_time": "2025-08-20T02:33:19.439892Z"
    }
   },
   "cell_type": "code",
   "source": "df_cleaned.head()",
   "id": "1a10018349581cf2",
   "outputs": [
    {
     "data": {
      "text/plain": [
       "        age  income     score zipcode      city  extra_data\n",
       "0  0.238095  0.8125  0.653846   90210   Beverly         0.5\n",
       "1  0.761905  0.6250  1.000000   10001  New York         1.0\n",
       "2  0.000000  0.0000  0.596154   60614   Chicago         0.5\n",
       "3  1.000000  1.0000  0.423077   94103        SF         0.5\n",
       "4  0.428571  0.6250  0.884615   73301    Austin         0.5"
      ],
      "text/html": [
       "<div>\n",
       "<style scoped>\n",
       "    .dataframe tbody tr th:only-of-type {\n",
       "        vertical-align: middle;\n",
       "    }\n",
       "\n",
       "    .dataframe tbody tr th {\n",
       "        vertical-align: top;\n",
       "    }\n",
       "\n",
       "    .dataframe thead th {\n",
       "        text-align: right;\n",
       "    }\n",
       "</style>\n",
       "<table border=\"1\" class=\"dataframe\">\n",
       "  <thead>\n",
       "    <tr style=\"text-align: right;\">\n",
       "      <th></th>\n",
       "      <th>age</th>\n",
       "      <th>income</th>\n",
       "      <th>score</th>\n",
       "      <th>zipcode</th>\n",
       "      <th>city</th>\n",
       "      <th>extra_data</th>\n",
       "    </tr>\n",
       "  </thead>\n",
       "  <tbody>\n",
       "    <tr>\n",
       "      <th>0</th>\n",
       "      <td>0.238095</td>\n",
       "      <td>0.8125</td>\n",
       "      <td>0.653846</td>\n",
       "      <td>90210</td>\n",
       "      <td>Beverly</td>\n",
       "      <td>0.5</td>\n",
       "    </tr>\n",
       "    <tr>\n",
       "      <th>1</th>\n",
       "      <td>0.761905</td>\n",
       "      <td>0.6250</td>\n",
       "      <td>1.000000</td>\n",
       "      <td>10001</td>\n",
       "      <td>New York</td>\n",
       "      <td>1.0</td>\n",
       "    </tr>\n",
       "    <tr>\n",
       "      <th>2</th>\n",
       "      <td>0.000000</td>\n",
       "      <td>0.0000</td>\n",
       "      <td>0.596154</td>\n",
       "      <td>60614</td>\n",
       "      <td>Chicago</td>\n",
       "      <td>0.5</td>\n",
       "    </tr>\n",
       "    <tr>\n",
       "      <th>3</th>\n",
       "      <td>1.000000</td>\n",
       "      <td>1.0000</td>\n",
       "      <td>0.423077</td>\n",
       "      <td>94103</td>\n",
       "      <td>SF</td>\n",
       "      <td>0.5</td>\n",
       "    </tr>\n",
       "    <tr>\n",
       "      <th>4</th>\n",
       "      <td>0.428571</td>\n",
       "      <td>0.6250</td>\n",
       "      <td>0.884615</td>\n",
       "      <td>73301</td>\n",
       "      <td>Austin</td>\n",
       "      <td>0.5</td>\n",
       "    </tr>\n",
       "  </tbody>\n",
       "</table>\n",
       "</div>"
      ]
     },
     "execution_count": 16,
     "metadata": {},
     "output_type": "execute_result"
    }
   ],
   "execution_count": 16
  },
  {
   "metadata": {
    "ExecuteTime": {
     "end_time": "2025-08-20T02:34:21.690929Z",
     "start_time": "2025-08-20T02:34:21.686091Z"
    }
   },
   "cell_type": "code",
   "source": "df_cleaned.to_csv('/Users/billqiu/bootcamp_Zhiang_Qiu/homework/homework6/data/processed/combined_cleaned_data.csv', index=False)",
   "id": "a3ea77914a37e3cd",
   "outputs": [],
   "execution_count": 18
  },
  {
   "metadata": {},
   "cell_type": "code",
   "outputs": [],
   "execution_count": null,
   "source": "",
   "id": "d0d51889fefd51b0"
  }
 ],
 "metadata": {
  "kernelspec": {
   "display_name": "Python 3",
   "language": "python",
   "name": "python3"
  },
  "language_info": {
   "codemirror_mode": {
    "name": "ipython",
    "version": 2
   },
   "file_extension": ".py",
   "mimetype": "text/x-python",
   "name": "python",
   "nbconvert_exporter": "python",
   "pygments_lexer": "ipython2",
   "version": "2.7.6"
  }
 },
 "nbformat": 4,
 "nbformat_minor": 5
}
