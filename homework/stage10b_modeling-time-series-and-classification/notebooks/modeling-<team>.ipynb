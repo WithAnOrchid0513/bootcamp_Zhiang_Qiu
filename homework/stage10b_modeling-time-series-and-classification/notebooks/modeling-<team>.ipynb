{
 "cells": [
  {
   "cell_type": "code",
   "id": "initial_id",
   "metadata": {
    "collapsed": true,
    "ExecuteTime": {
     "end_time": "2025-08-24T14:30:55.161923Z",
     "start_time": "2025-08-24T14:30:55.154648Z"
    }
   },
   "source": [
    "# Imports\n",
    "import numpy as np, pandas as pd\n",
    "import matplotlib.pyplot as plt\n",
    "import seaborn as sns\n",
    "from sklearn.pipeline import Pipeline, make_pipeline\n",
    "from sklearn.preprocessing import StandardScaler\n",
    "from sklearn.linear_model import LinearRegression, LogisticRegression\n",
    "from sklearn.tree import DecisionTreeClassifier\n",
    "from sklearn.metrics import mean_absolute_error, mean_squared_error, classification_report, confusion_matrix\n",
    "from sklearn.model_selection import train_test_split, TimeSeriesSplit\n",
    "np.random.seed(7); sns.set(); plt.rcParams['figure.figsize']=(9,4)"
   ],
   "outputs": [],
   "execution_count": 28
  },
  {
   "metadata": {
    "ExecuteTime": {
     "end_time": "2025-08-24T14:30:55.188323Z",
     "start_time": "2025-08-24T14:30:55.176186Z"
    }
   },
   "cell_type": "code",
   "source": [
    "# Synthetic series with regimes & jumps\n",
    "n=500\n",
    "dates=pd.bdate_range('2021-01-01', periods=n)\n",
    "mu = np.where(np.arange(n)<n//2, 0.0003, -0.0001)\n",
    "sigma = np.where(np.arange(n)<n//2, 0.01, 0.015)\n",
    "eps = np.random.normal(mu, sigma)\n",
    "jumps = np.zeros(n); jump_days = np.random.choice(np.arange(20,n-20), size=5, replace=False)\n",
    "jumps[jump_days] = np.random.normal(0,0.05,size=len(jump_days))\n",
    "rets = eps + jumps\n",
    "price = 100*np.exp(np.cumsum(rets))\n",
    "df = pd.DataFrame({'price':price}, index=dates)\n",
    "df['ret'] = df['price'].pct_change().fillna(0.0)\n",
    "df['log_ret'] = np.log1p(df['ret'])\n",
    "df.head()"
   ],
   "id": "55466f9a26cc55ac",
   "outputs": [
    {
     "data": {
      "text/plain": [
       "                 price       ret   log_ret\n",
       "2021-01-01  101.735412  0.000000  0.000000\n",
       "2021-01-04  101.292875 -0.004350 -0.004359\n",
       "2021-01-05  101.356527  0.000628  0.000628\n",
       "2021-01-06  101.800950  0.004385  0.004375\n",
       "2021-01-07  101.031283 -0.007561 -0.007589"
      ],
      "text/html": [
       "<div>\n",
       "<style scoped>\n",
       "    .dataframe tbody tr th:only-of-type {\n",
       "        vertical-align: middle;\n",
       "    }\n",
       "\n",
       "    .dataframe tbody tr th {\n",
       "        vertical-align: top;\n",
       "    }\n",
       "\n",
       "    .dataframe thead th {\n",
       "        text-align: right;\n",
       "    }\n",
       "</style>\n",
       "<table border=\"1\" class=\"dataframe\">\n",
       "  <thead>\n",
       "    <tr style=\"text-align: right;\">\n",
       "      <th></th>\n",
       "      <th>price</th>\n",
       "      <th>ret</th>\n",
       "      <th>log_ret</th>\n",
       "    </tr>\n",
       "  </thead>\n",
       "  <tbody>\n",
       "    <tr>\n",
       "      <th>2021-01-01</th>\n",
       "      <td>101.735412</td>\n",
       "      <td>0.000000</td>\n",
       "      <td>0.000000</td>\n",
       "    </tr>\n",
       "    <tr>\n",
       "      <th>2021-01-04</th>\n",
       "      <td>101.292875</td>\n",
       "      <td>-0.004350</td>\n",
       "      <td>-0.004359</td>\n",
       "    </tr>\n",
       "    <tr>\n",
       "      <th>2021-01-05</th>\n",
       "      <td>101.356527</td>\n",
       "      <td>0.000628</td>\n",
       "      <td>0.000628</td>\n",
       "    </tr>\n",
       "    <tr>\n",
       "      <th>2021-01-06</th>\n",
       "      <td>101.800950</td>\n",
       "      <td>0.004385</td>\n",
       "      <td>0.004375</td>\n",
       "    </tr>\n",
       "    <tr>\n",
       "      <th>2021-01-07</th>\n",
       "      <td>101.031283</td>\n",
       "      <td>-0.007561</td>\n",
       "      <td>-0.007589</td>\n",
       "    </tr>\n",
       "  </tbody>\n",
       "</table>\n",
       "</div>"
      ]
     },
     "execution_count": 29,
     "metadata": {},
     "output_type": "execute_result"
    }
   ],
   "execution_count": 29
  },
  {
   "metadata": {
    "ExecuteTime": {
     "end_time": "2025-08-24T14:30:55.229501Z",
     "start_time": "2025-08-24T14:30:55.222562Z"
    }
   },
   "cell_type": "code",
   "source": [
    "df['lag_1'] = df['ret'].shift(1)\n",
    "df['roll_mean_5'] = df['ret'].rolling(5).mean().shift(1)\n",
    "# monthly rolling std\n",
    "df['roll_std_21'] = df['log_ret'].rolling(21).std().shift(1)\n",
    "# momentum\n",
    "df['momentum'] = df['price'] - df['price'].shift(1)\n",
    "df['y_next_ret'] = df['ret'].shift(-1)\n",
    "df['y_up'] = (df['y_next_ret']>0).astype(int)\n",
    "df_feat = df.dropna().copy()\n",
    "df_feat.head()"
   ],
   "id": "d9d87c8284685e99",
   "outputs": [
    {
     "data": {
      "text/plain": [
       "                 price       ret   log_ret     lag_1  roll_mean_5  \\\n",
       "2021-02-01  100.383751  0.001845  0.001843  0.016949     0.002509   \n",
       "2021-02-02  100.025880 -0.003565 -0.003571  0.001845     0.001706   \n",
       "2021-02-03  102.106835  0.020804  0.020591 -0.003565     0.000685   \n",
       "2021-02-04  102.091126 -0.000154 -0.000154  0.020804     0.004236   \n",
       "2021-02-05  100.650994 -0.014106 -0.014207 -0.000154     0.007176   \n",
       "\n",
       "            roll_std_21  momentum  y_next_ret  y_up  \n",
       "2021-02-01     0.008256  0.184872   -0.003565     0  \n",
       "2021-02-02     0.008273 -0.357871    0.020804     1  \n",
       "2021-02-03     0.008257  2.080956   -0.000154     0  \n",
       "2021-02-04     0.009466 -0.015709   -0.014106     0  \n",
       "2021-02-05     0.009422 -1.440133   -0.003745     0  "
      ],
      "text/html": [
       "<div>\n",
       "<style scoped>\n",
       "    .dataframe tbody tr th:only-of-type {\n",
       "        vertical-align: middle;\n",
       "    }\n",
       "\n",
       "    .dataframe tbody tr th {\n",
       "        vertical-align: top;\n",
       "    }\n",
       "\n",
       "    .dataframe thead th {\n",
       "        text-align: right;\n",
       "    }\n",
       "</style>\n",
       "<table border=\"1\" class=\"dataframe\">\n",
       "  <thead>\n",
       "    <tr style=\"text-align: right;\">\n",
       "      <th></th>\n",
       "      <th>price</th>\n",
       "      <th>ret</th>\n",
       "      <th>log_ret</th>\n",
       "      <th>lag_1</th>\n",
       "      <th>roll_mean_5</th>\n",
       "      <th>roll_std_21</th>\n",
       "      <th>momentum</th>\n",
       "      <th>y_next_ret</th>\n",
       "      <th>y_up</th>\n",
       "    </tr>\n",
       "  </thead>\n",
       "  <tbody>\n",
       "    <tr>\n",
       "      <th>2021-02-01</th>\n",
       "      <td>100.383751</td>\n",
       "      <td>0.001845</td>\n",
       "      <td>0.001843</td>\n",
       "      <td>0.016949</td>\n",
       "      <td>0.002509</td>\n",
       "      <td>0.008256</td>\n",
       "      <td>0.184872</td>\n",
       "      <td>-0.003565</td>\n",
       "      <td>0</td>\n",
       "    </tr>\n",
       "    <tr>\n",
       "      <th>2021-02-02</th>\n",
       "      <td>100.025880</td>\n",
       "      <td>-0.003565</td>\n",
       "      <td>-0.003571</td>\n",
       "      <td>0.001845</td>\n",
       "      <td>0.001706</td>\n",
       "      <td>0.008273</td>\n",
       "      <td>-0.357871</td>\n",
       "      <td>0.020804</td>\n",
       "      <td>1</td>\n",
       "    </tr>\n",
       "    <tr>\n",
       "      <th>2021-02-03</th>\n",
       "      <td>102.106835</td>\n",
       "      <td>0.020804</td>\n",
       "      <td>0.020591</td>\n",
       "      <td>-0.003565</td>\n",
       "      <td>0.000685</td>\n",
       "      <td>0.008257</td>\n",
       "      <td>2.080956</td>\n",
       "      <td>-0.000154</td>\n",
       "      <td>0</td>\n",
       "    </tr>\n",
       "    <tr>\n",
       "      <th>2021-02-04</th>\n",
       "      <td>102.091126</td>\n",
       "      <td>-0.000154</td>\n",
       "      <td>-0.000154</td>\n",
       "      <td>0.020804</td>\n",
       "      <td>0.004236</td>\n",
       "      <td>0.009466</td>\n",
       "      <td>-0.015709</td>\n",
       "      <td>-0.014106</td>\n",
       "      <td>0</td>\n",
       "    </tr>\n",
       "    <tr>\n",
       "      <th>2021-02-05</th>\n",
       "      <td>100.650994</td>\n",
       "      <td>-0.014106</td>\n",
       "      <td>-0.014207</td>\n",
       "      <td>-0.000154</td>\n",
       "      <td>0.007176</td>\n",
       "      <td>0.009422</td>\n",
       "      <td>-1.440133</td>\n",
       "      <td>-0.003745</td>\n",
       "      <td>0</td>\n",
       "    </tr>\n",
       "  </tbody>\n",
       "</table>\n",
       "</div>"
      ]
     },
     "execution_count": 30,
     "metadata": {},
     "output_type": "execute_result"
    }
   ],
   "execution_count": 30
  },
  {
   "metadata": {
    "ExecuteTime": {
     "end_time": "2025-08-24T14:31:12.590556Z",
     "start_time": "2025-08-24T14:31:12.584887Z"
    }
   },
   "cell_type": "code",
   "source": [
    "# Time-aware split\n",
    "cut=int(len(df_feat)*0.8)\n",
    "train, test = df_feat.iloc[:cut], df_feat.iloc[cut:]\n",
    "features=['lag_1','roll_mean_5', 'roll_std_21', 'momentum']\n",
    "X_tr, X_te = train[features], test[features]\n",
    "y_tr_reg, y_te_reg = train['y_next_ret'], test['y_next_ret']\n",
    "y_tr_clf, y_te_clf = train['y_up'], test['y_up']"
   ],
   "id": "5cdc2e1165475820",
   "outputs": [],
   "execution_count": 32
  },
  {
   "metadata": {
    "ExecuteTime": {
     "end_time": "2025-08-24T14:31:13.665326Z",
     "start_time": "2025-08-24T14:31:13.596492Z"
    }
   },
   "cell_type": "code",
   "source": [
    "# Track 2: Classification (up/down)\n",
    "clf = Pipeline([('scaler', StandardScaler()), ('logit', LogisticRegression(max_iter=1000))])\n",
    "clf.fit(X_tr, y_tr_clf)\n",
    "predc = clf.predict(X_te)\n",
    "print(classification_report(y_te_clf, predc))\n",
    "cm = confusion_matrix(y_te_clf, predc)\n",
    "sns.heatmap(cm, annot=True, fmt='d'); plt.title('Confusion Matrix'); plt.show()"
   ],
   "id": "417fc9db30389bcf",
   "outputs": [
    {
     "name": "stdout",
     "output_type": "stream",
     "text": [
      "              precision    recall  f1-score   support\n",
      "\n",
      "           0       0.56      0.81      0.66        53\n",
      "           1       0.47      0.21      0.29        43\n",
      "\n",
      "    accuracy                           0.54        96\n",
      "   macro avg       0.52      0.51      0.48        96\n",
      "weighted avg       0.52      0.54      0.50        96\n",
      "\n"
     ]
    },
    {
     "data": {
      "text/plain": [
       "<Figure size 900x400 with 2 Axes>"
      ],
      "image/png": "[encoded data removed]"
     },
     "metadata": {},
     "output_type": "display_data"
    }
   ],
   "execution_count": 33
  },
  {
   "metadata": {
    "ExecuteTime": {
     "end_time": "2025-08-24T14:31:14.564153Z",
     "start_time": "2025-08-24T14:31:14.562112Z"
    }
   },
   "cell_type": "code",
   "source": "# The accuracy improved from 0.52 to 0.54 after adding the momentum and rolling std factor. The assumption is that there is a momentum factor, but it may fail if the market is actually mean reverting. I can add more features like the cross between Moving Averages of different time period to further improve the model.",
   "id": "2707e51b34048329",
   "outputs": [],
   "execution_count": 34
  },
  {
   "metadata": {},
   "cell_type": "code",
   "outputs": [],
   "execution_count": null,
   "source": "",
   "id": "f3f0a76f2211efba"
  }
 ],
 "metadata": {
  "kernelspec": {
   "display_name": "Python 3",
   "language": "python",
   "name": "python3"
  },
  "language_info": {
   "codemirror_mode": {
    "name": "ipython",
    "version": 2
   },
   "file_extension": ".py",
   "mimetype": "text/x-python",
   "name": "python",
   "nbconvert_exporter": "python",
   "pygments_lexer": "ipython2",
   "version": "2.7.6"
  }
 },
 "nbformat": 4,
 "nbformat_minor": 5
}
