{
 "cells": [
  {
   "cell_type": "code",
   "id": "initial_id",
   "metadata": {
    "collapsed": true,
    "ExecuteTime": {
     "end_time": "2025-08-21T22:30:46.021764Z",
     "start_time": "2025-08-21T22:30:45.777509Z"
    }
   },
   "source": [
    "import pandas as pd\n",
    "import numpy as np\n",
    "\n",
    "# Example synthetic data (replace with your project dataset)\n",
    "np.random.seed(0)\n",
    "n = 100\n",
    "df = pd.DataFrame({\n",
    "    'income': np.random.normal(60000, 15000, n).astype(int),\n",
    "    'monthly_spend': np.random.normal(2000, 600, n).astype(int),\n",
    "    'credit_score': np.random.normal(680, 50, n).astype(int)\n",
    "})\n",
    "df.head()"
   ],
   "outputs": [
    {
     "data": {
      "text/plain": [
       "   income  monthly_spend  credit_score\n",
       "0   86460           3129           661\n",
       "1   66002           1191           668\n",
       "2   74681           1237           734\n",
       "3   93613           2581           712\n",
       "4   88013           1296           712"
      ],
      "text/html": [
       "<div>\n",
       "<style scoped>\n",
       "    .dataframe tbody tr th:only-of-type {\n",
       "        vertical-align: middle;\n",
       "    }\n",
       "\n",
       "    .dataframe tbody tr th {\n",
       "        vertical-align: top;\n",
       "    }\n",
       "\n",
       "    .dataframe thead th {\n",
       "        text-align: right;\n",
       "    }\n",
       "</style>\n",
       "<table border=\"1\" class=\"dataframe\">\n",
       "  <thead>\n",
       "    <tr style=\"text-align: right;\">\n",
       "      <th></th>\n",
       "      <th>income</th>\n",
       "      <th>monthly_spend</th>\n",
       "      <th>credit_score</th>\n",
       "    </tr>\n",
       "  </thead>\n",
       "  <tbody>\n",
       "    <tr>\n",
       "      <th>0</th>\n",
       "      <td>86460</td>\n",
       "      <td>3129</td>\n",
       "      <td>661</td>\n",
       "    </tr>\n",
       "    <tr>\n",
       "      <th>1</th>\n",
       "      <td>66002</td>\n",
       "      <td>1191</td>\n",
       "      <td>668</td>\n",
       "    </tr>\n",
       "    <tr>\n",
       "      <th>2</th>\n",
       "      <td>74681</td>\n",
       "      <td>1237</td>\n",
       "      <td>734</td>\n",
       "    </tr>\n",
       "    <tr>\n",
       "      <th>3</th>\n",
       "      <td>93613</td>\n",
       "      <td>2581</td>\n",
       "      <td>712</td>\n",
       "    </tr>\n",
       "    <tr>\n",
       "      <th>4</th>\n",
       "      <td>88013</td>\n",
       "      <td>1296</td>\n",
       "      <td>712</td>\n",
       "    </tr>\n",
       "  </tbody>\n",
       "</table>\n",
       "</div>"
      ]
     },
     "execution_count": 1,
     "metadata": {},
     "output_type": "execute_result"
    }
   ],
   "execution_count": 1
  },
  {
   "metadata": {
    "ExecuteTime": {
     "end_time": "2025-08-21T22:30:46.048804Z",
     "start_time": "2025-08-21T22:30:46.046871Z"
    }
   },
   "cell_type": "code",
   "source": [
    "# feature 1: it compares income times credit, a high income with a high credit score suggest a good candidate for lending\n",
    "df['income_times_credit_ratio'] = df['income'] * df['credit_score']"
   ],
   "id": "77eb59351020174f",
   "outputs": [],
   "execution_count": 2
  },
  {
   "metadata": {
    "ExecuteTime": {
     "end_time": "2025-08-21T22:30:46.079925Z",
     "start_time": "2025-08-21T22:30:46.077890Z"
    }
   },
   "cell_type": "code",
   "source": [
    "# feature 2: it calculates how much a person can save per year\n",
    "# it helps evaluate how the person's credit score should change\n",
    "# if significantly positive, then the credit score should go up; if negative, the credit score should go down\n",
    "df['savings'] = df['income'] - (df['monthly_spend'] * 12)"
   ],
   "id": "87da99619748633d",
   "outputs": [],
   "execution_count": 3
  },
  {
   "metadata": {
    "ExecuteTime": {
     "end_time": "2025-08-21T22:30:46.100931Z",
     "start_time": "2025-08-21T22:30:46.096624Z"
    }
   },
   "cell_type": "code",
   "source": "df",
   "id": "eed0d9a018a7635e",
   "outputs": [
    {
     "data": {
      "text/plain": [
       "    income  monthly_spend  credit_score  income_times_credit_ratio  savings\n",
       "0    86460           3129           661                   57150060    48912\n",
       "1    66002           1191           668                   44089336    51710\n",
       "2    74681           1237           734                   54815854    59837\n",
       "3    93613           2581           712                   66652456    62641\n",
       "4    88013           1296           712                   62665256    72461\n",
       "..     ...            ...           ...                        ...      ...\n",
       "95   70598           1897           736                   51960128    47834\n",
       "96   60157           2463           684                   41147388    30601\n",
       "97   86788           2494           709                   61532692    56860\n",
       "98   61903           3297           660                   40855980    22339\n",
       "99   66029           2801           698                   46088242    32417\n",
       "\n",
       "[100 rows x 5 columns]"
      ],
      "text/html": [
       "<div>\n",
       "<style scoped>\n",
       "    .dataframe tbody tr th:only-of-type {\n",
       "        vertical-align: middle;\n",
       "    }\n",
       "\n",
       "    .dataframe tbody tr th {\n",
       "        vertical-align: top;\n",
       "    }\n",
       "\n",
       "    .dataframe thead th {\n",
       "        text-align: right;\n",
       "    }\n",
       "</style>\n",
       "<table border=\"1\" class=\"dataframe\">\n",
       "  <thead>\n",
       "    <tr style=\"text-align: right;\">\n",
       "      <th></th>\n",
       "      <th>income</th>\n",
       "      <th>monthly_spend</th>\n",
       "      <th>credit_score</th>\n",
       "      <th>income_times_credit_ratio</th>\n",
       "      <th>savings</th>\n",
       "    </tr>\n",
       "  </thead>\n",
       "  <tbody>\n",
       "    <tr>\n",
       "      <th>0</th>\n",
       "      <td>86460</td>\n",
       "      <td>3129</td>\n",
       "      <td>661</td>\n",
       "      <td>57150060</td>\n",
       "      <td>48912</td>\n",
       "    </tr>\n",
       "    <tr>\n",
       "      <th>1</th>\n",
       "      <td>66002</td>\n",
       "      <td>1191</td>\n",
       "      <td>668</td>\n",
       "      <td>44089336</td>\n",
       "      <td>51710</td>\n",
       "    </tr>\n",
       "    <tr>\n",
       "      <th>2</th>\n",
       "      <td>74681</td>\n",
       "      <td>1237</td>\n",
       "      <td>734</td>\n",
       "      <td>54815854</td>\n",
       "      <td>59837</td>\n",
       "    </tr>\n",
       "    <tr>\n",
       "      <th>3</th>\n",
       "      <td>93613</td>\n",
       "      <td>2581</td>\n",
       "      <td>712</td>\n",
       "      <td>66652456</td>\n",
       "      <td>62641</td>\n",
       "    </tr>\n",
       "    <tr>\n",
       "      <th>4</th>\n",
       "      <td>88013</td>\n",
       "      <td>1296</td>\n",
       "      <td>712</td>\n",
       "      <td>62665256</td>\n",
       "      <td>72461</td>\n",
       "    </tr>\n",
       "    <tr>\n",
       "      <th>...</th>\n",
       "      <td>...</td>\n",
       "      <td>...</td>\n",
       "      <td>...</td>\n",
       "      <td>...</td>\n",
       "      <td>...</td>\n",
       "    </tr>\n",
       "    <tr>\n",
       "      <th>95</th>\n",
       "      <td>70598</td>\n",
       "      <td>1897</td>\n",
       "      <td>736</td>\n",
       "      <td>51960128</td>\n",
       "      <td>47834</td>\n",
       "    </tr>\n",
       "    <tr>\n",
       "      <th>96</th>\n",
       "      <td>60157</td>\n",
       "      <td>2463</td>\n",
       "      <td>684</td>\n",
       "      <td>41147388</td>\n",
       "      <td>30601</td>\n",
       "    </tr>\n",
       "    <tr>\n",
       "      <th>97</th>\n",
       "      <td>86788</td>\n",
       "      <td>2494</td>\n",
       "      <td>709</td>\n",
       "      <td>61532692</td>\n",
       "      <td>56860</td>\n",
       "    </tr>\n",
       "    <tr>\n",
       "      <th>98</th>\n",
       "      <td>61903</td>\n",
       "      <td>3297</td>\n",
       "      <td>660</td>\n",
       "      <td>40855980</td>\n",
       "      <td>22339</td>\n",
       "    </tr>\n",
       "    <tr>\n",
       "      <th>99</th>\n",
       "      <td>66029</td>\n",
       "      <td>2801</td>\n",
       "      <td>698</td>\n",
       "      <td>46088242</td>\n",
       "      <td>32417</td>\n",
       "    </tr>\n",
       "  </tbody>\n",
       "</table>\n",
       "<p>100 rows × 5 columns</p>\n",
       "</div>"
      ]
     },
     "execution_count": 4,
     "metadata": {},
     "output_type": "execute_result"
    }
   ],
   "execution_count": 4
  },
  {
   "metadata": {
    "ExecuteTime": {
     "end_time": "2025-08-21T22:30:46.141059Z",
     "start_time": "2025-08-21T22:30:46.139788Z"
    }
   },
   "cell_type": "code",
   "source": "",
   "id": "b5428344dbc67d33",
   "outputs": [],
   "execution_count": null
  }
 ],
 "metadata": {
  "kernelspec": {
   "display_name": "Python 3",
   "language": "python",
   "name": "python3"
  },
  "language_info": {
   "codemirror_mode": {
    "name": "ipython",
    "version": 2
   },
   "file_extension": ".py",
   "mimetype": "text/x-python",
   "name": "python",
   "nbconvert_exporter": "python",
   "pygments_lexer": "ipython2",
   "version": "2.7.6"
  }
 },
 "nbformat": 4,
 "nbformat_minor": 5
}
