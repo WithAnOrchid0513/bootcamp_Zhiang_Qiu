{
 "cells": [
  {
   "cell_type": "code",
   "id": "initial_id",
   "metadata": {
    "collapsed": true,
    "ExecuteTime": {
     "end_time": "2025-08-27T18:51:51.547762Z",
     "start_time": "2025-08-27T18:51:51.540905Z"
    }
   },
   "source": [
    "# basic analysis\n",
    "import numpy as np\n",
    "import pandas as pd\n",
    "import matplotlib.pyplot as plt\n",
    "from sklearn.metrics import classification_report, confusion_matrix\n",
    "import seaborn as sns\n",
    "import pickle\n",
    "import joblib\n",
    "from pathlib import Path\n",
    "np.random.seed(7)"
   ],
   "outputs": [],
   "execution_count": 16
  },
  {
   "metadata": {
    "ExecuteTime": {
     "end_time": "2025-08-27T12:54:58.395038Z",
     "start_time": "2025-08-27T12:54:58.392292Z"
    }
   },
   "cell_type": "code",
   "source": [
    "# Load data\n",
    "df = pd.read_csv('/Users/billqiu/bootcamp_Zhiang_Qiu/project/data/raw/api_source-alpha_symbol-MSFT_20250820-142556.csv')"
   ],
   "id": "5844e7930b6afc3c",
   "outputs": [],
   "execution_count": 2
  },
  {
   "metadata": {
    "ExecuteTime": {
     "end_time": "2025-08-27T12:54:58.401098Z",
     "start_time": "2025-08-27T12:54:58.398027Z"
    }
   },
   "cell_type": "code",
   "source": [
    "# Create features\n",
    "df['ret'] = df['adj_close'].pct_change().fillna(0.0)\n",
    "df['ma_20'] = df['adj_close'].rolling(20).mean()\n",
    "df['volatility'] = df['ret'].rolling(21).std()"
   ],
   "id": "7afbb9c4f39fa1a8",
   "outputs": [],
   "execution_count": 3
  },
  {
   "metadata": {
    "ExecuteTime": {
     "end_time": "2025-08-27T12:54:58.406109Z",
     "start_time": "2025-08-27T12:54:58.403887Z"
    }
   },
   "cell_type": "code",
   "source": [
    "# Make a prediction column which shows whether the next day's return is positive\n",
    "df.loc[:,\"pred\"] = (df[\"ret\"].shift(-1) > 0).astype(int)\n",
    "df = df.dropna()"
   ],
   "id": "cf71d8f953b13a68",
   "outputs": [],
   "execution_count": 4
  },
  {
   "metadata": {
    "ExecuteTime": {
     "end_time": "2025-08-27T12:54:58.498007Z",
     "start_time": "2025-08-27T12:54:58.411817Z"
    }
   },
   "cell_type": "code",
   "source": [
    "# Import the random forest code\n",
    "import sys\n",
    "sys.path.append(\"/Users/billqiu/bootcamp_Zhiang_Qiu/project/src\")\n",
    "\n",
    "from utils import train_random_forest\n",
    "model, X_test, y_test, y_pred = train_random_forest(df, feature_cols=['ma_20', 'volatility'], target_col='pred', n_estimators=200)"
   ],
   "id": "393be166194dead6",
   "outputs": [],
   "execution_count": 6
  },
  {
   "metadata": {
    "ExecuteTime": {
     "end_time": "2025-08-27T12:54:58.652014Z",
     "start_time": "2025-08-27T12:54:58.589831Z"
    }
   },
   "cell_type": "code",
   "source": [
    "# Visualization\n",
    "print(classification_report(y_test, y_pred))\n",
    "cm = confusion_matrix(y_test, y_pred)\n",
    "sns.heatmap(cm, annot=True, fmt='d'); plt.title('Confusion Matrix'); plt.show()"
   ],
   "id": "6d6d1c648f112990",
   "outputs": [
    {
     "name": "stdout",
     "output_type": "stream",
     "text": [
      "              precision    recall  f1-score   support\n",
      "\n",
      "           0       0.33      0.50      0.40         6\n",
      "           1       0.73      0.57      0.64        14\n",
      "\n",
      "    accuracy                           0.55        20\n",
      "   macro avg       0.53      0.54      0.52        20\n",
      "weighted avg       0.61      0.55      0.57        20\n",
      "\n"
     ]
    },
    {
     "data": {
      "text/plain": [
       "<Figure size 640x480 with 2 Axes>"
      ],
      "image/png": "[encoded data removed]"
     },
     "metadata": {},
     "output_type": "display_data"
    }
   ],
   "execution_count": 8
  },
  {
   "metadata": {
    "ExecuteTime": {
     "end_time": "2025-08-27T12:54:58.662034Z",
     "start_time": "2025-08-27T12:54:58.660196Z"
    }
   },
   "cell_type": "code",
   "source": "print(\"Basic analysis complete.\")",
   "id": "2b06d1345590519d",
   "outputs": [
    {
     "name": "stdout",
     "output_type": "stream",
     "text": [
      "Basic analysis complete.\n"
     ]
    }
   ],
   "execution_count": 9
  },
  {
   "metadata": {
    "ExecuteTime": {
     "end_time": "2025-08-27T12:54:58.668126Z",
     "start_time": "2025-08-27T12:54:58.666460Z"
    }
   },
   "cell_type": "code",
   "source": "print(\"Notebook cleaned and ready for handoff.\")",
   "id": "c17d3d5db4157229",
   "outputs": [
    {
     "name": "stdout",
     "output_type": "stream",
     "text": [
      "Notebook cleaned and ready for handoff.\n"
     ]
    }
   ],
   "execution_count": 10
  },
  {
   "metadata": {
    "ExecuteTime": {
     "end_time": "2025-08-27T18:52:53.011522Z",
     "start_time": "2025-08-27T18:52:52.959470Z"
    }
   },
   "cell_type": "code",
   "source": [
    "out_path = Path(\"/Users/billqiu/bootcamp_Zhiang_Qiu/homework/stage13_productization/model/model.pkl\")\n",
    "out_path.parent.mkdir(parents=True, exist_ok=True)\n",
    "joblib.dump(model, out_path)"
   ],
   "id": "b4ca986f594b7f7",
   "outputs": [
    {
     "data": {
      "text/plain": [
       "['/Users/billqiu/bootcamp_Zhiang_Qiu/homework/stage13_productization/model/model.pkl']"
      ]
     },
     "execution_count": 17,
     "metadata": {},
     "output_type": "execute_result"
    }
   ],
   "execution_count": 17
  },
  {
   "metadata": {
    "ExecuteTime": {
     "end_time": "2025-08-27T18:53:32.029083Z",
     "start_time": "2025-08-27T18:53:32.014033Z"
    }
   },
   "cell_type": "code",
   "source": [
    "with open(out_path, 'wb') as f:\n",
    "    pickle.dump(model, f)\n",
    "\n",
    "with open(out_path, 'rb') as f:\n",
    "    loaded_model = pickle.load(f)"
   ],
   "id": "3eef8ba13152b9bc",
   "outputs": [],
   "execution_count": 19
  },
  {
   "metadata": {
    "ExecuteTime": {
     "end_time": "2025-08-27T18:57:37.711110Z",
     "start_time": "2025-08-27T18:57:37.678295Z"
    }
   },
   "cell_type": "code",
   "source": [
    "# Example prediction\n",
    "model.predict(X_test)"
   ],
   "id": "b26caec63cf12c41",
   "outputs": [
    {
     "data": {
      "text/plain": [
       "array([1, 1, 1, 0, 0, 0, 1, 0, 1, 1, 0, 1, 1, 1, 0, 1, 0, 1, 0, 0])"
      ]
     },
     "execution_count": 21,
     "metadata": {},
     "output_type": "execute_result"
    }
   ],
   "execution_count": 21
  },
  {
   "metadata": {
    "ExecuteTime": {
     "end_time": "2025-08-27T19:00:45.911720Z",
     "start_time": "2025-08-27T19:00:45.841346Z"
    }
   },
   "cell_type": "code",
   "source": [
    "from flask import Flask, request, jsonify\n",
    "import threading\n",
    "import matplotlib.pyplot as plt\n",
    "import io\n",
    "import base64\n",
    "\n",
    "app = Flask(__name__)\n",
    "\n",
    "@app.route('/predict', methods=['POST'])\n",
    "def predict():\n",
    "    # TODO: Replace placeholder logic with actual model prediction\n",
    "    data = request.get_json()\n",
    "    features = data.get('features', None)\n",
    "    if features is None:\n",
    "        return jsonify({'error': 'No features provided'}), 400\n",
    "    pred = sum(features)  # placeholder\n",
    "    return jsonify({'prediction': pred})\n",
    "\n",
    "@app.route('/predict/<float:input1>', methods=['GET'])\n",
    "def predict_one(input1):\n",
    "    pred = input1 * 2  # placeholder\n",
    "    return jsonify({'prediction': pred})\n",
    "\n",
    "@app.route('/predict/<float:input1>/<float:input2>', methods=['GET'])\n",
    "def predict_two(input1, input2):\n",
    "    pred = input1 + input2  # placeholder\n",
    "    return jsonify({'prediction': pred})\n",
    "\n",
    "@app.route('/plot')\n",
    "def plot():\n",
    "    # TODO: Replace with meaningful chart or image\n",
    "    fig, ax = plt.subplots()\n",
    "    ax.plot([0, 1, 2], [0, 1, 4])\n",
    "    buf = io.BytesIO()\n",
    "    fig.savefig(buf, format='png')\n",
    "    buf.seek(0)\n",
    "    img_bytes = base64.b64encode(buf.read()).decode('utf-8')\n",
    "    return f'<img src=\"data:image/png;base64,{img_bytes}\"/>'\n",
    "\n",
    "def run_flask():\n",
    "    app.run(port=5000)\n",
    "\n",
    "# Launch Flask in a separate thread\n",
    "threading.Thread(target=run_flask).start()"
   ],
   "id": "a6703ba137194feb",
   "outputs": [
    {
     "name": "stdout",
     "output_type": "stream",
     "text": [
      " * Serving Flask app '__main__'\n",
      " * Debug mode: off\n"
     ]
    },
    {
     "name": "stderr",
     "output_type": "stream",
     "text": [
      "\u001B[31m\u001B[1mWARNING: This is a development server. Do not use it in a production deployment. Use a production WSGI server instead.\u001B[0m\n",
      " * Running on http://127.0.0.1:5000\n",
      "\u001B[33mPress CTRL+C to quit\u001B[0m\n",
      "127.0.0.1 - - [27/Aug/2025 15:01:07] \"\u001B[33mGET / HTTP/1.1\u001B[0m\" 404 -\n",
      "127.0.0.1 - - [27/Aug/2025 15:01:07] \"\u001B[33mGET /favicon.ico HTTP/1.1\u001B[0m\" 404 -\n",
      "127.0.0.1 - - [27/Aug/2025 15:01:20] \"POST /predict HTTP/1.1\" 200 -\n",
      "127.0.0.1 - - [27/Aug/2025 15:01:20] \"GET /predict/2.0 HTTP/1.1\" 200 -\n",
      "127.0.0.1 - - [27/Aug/2025 15:01:20] \"GET /predict/1.0/3.0 HTTP/1.1\" 200 -\n",
      "127.0.0.1 - - [27/Aug/2025 15:01:20] \"GET /plot HTTP/1.1\" 200 -\n"
     ]
    }
   ],
   "execution_count": 24
  },
  {
   "metadata": {
    "ExecuteTime": {
     "end_time": "2025-08-27T19:03:59.085558Z",
     "start_time": "2025-08-27T19:03:58.982349Z"
    }
   },
   "cell_type": "code",
   "source": [
    "import requests\n",
    "from IPython.display import display, HTML\n",
    "\n",
    "# POST /predict\n",
    "response = requests.post(\n",
    "    'http://127.0.0.1:5000/predict',\n",
    "    json={'features':[0.1, 0.2, 0.4]}\n",
    ")\n",
    "print(response.json())\n",
    "\n",
    "# GET /predict/<input1>\n",
    "response2 = requests.get('http://127.0.0.1:5000/predict/2.0')\n",
    "print(response2.json())\n",
    "\n",
    "# GET /predict/<input1>/<input2>\n",
    "response3 = requests.get('http://127.0.0.1:5000/predict/1.0/3.0')\n",
    "print(response3.json())\n",
    "\n",
    "# GET /plot\n",
    "response_plot = requests.get('http://127.0.0.1:5000/plot')\n",
    "display(HTML(response_plot.text))"
   ],
   "id": "b29270b7762f0a94",
   "outputs": [
    {
     "name": "stdout",
     "output_type": "stream",
     "text": [
      "{'prediction': 0.7000000000000001}\n",
      "{'prediction': 4.0}\n",
      "{'prediction': 4.0}\n"
     ]
    },
    {
     "data": {
      "text/plain": [
       "<IPython.core.display.HTML object>"
      ],
      "text/html": [
       "<img src=\"data:image/png;base64,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\"/>"
      ]
     },
     "metadata": {},
     "output_type": "display_data"
    },
    {
     "data": {
      "text/plain": [
       "<Figure size 640x480 with 1 Axes>"
      ],
      "image/png": "[encoded data removed]"
     },
     "metadata": {},
     "output_type": "display_data"
    }
   ],
   "execution_count": 27
  },
  {
   "metadata": {},
   "cell_type": "code",
   "outputs": [],
   "execution_count": null,
   "source": "",
   "id": "dc3085594bda52a7"
  }
 ],
 "metadata": {
  "kernelspec": {
   "display_name": "Python 3",
   "language": "python",
   "name": "python3"
  },
  "language_info": {
   "codemirror_mode": {
    "name": "ipython",
    "version": 2
   },
   "file_extension": ".py",
   "mimetype": "text/x-python",
   "name": "python",
   "nbconvert_exporter": "python",
   "pygments_lexer": "ipython2",
   "version": "2.7.6"
  }
 },
 "nbformat": 4,
 "nbformat_minor": 5
}
