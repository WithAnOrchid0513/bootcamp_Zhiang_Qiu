{
 "cells": [
  {
   "cell_type": "code",
   "id": "initial_id",
   "metadata": {
    "collapsed": true,
    "ExecuteTime": {
     "end_time": "2025-08-27T12:47:19.077394Z",
     "start_time": "2025-08-27T12:47:18.785094Z"
    }
   },
   "source": [
    "# basic analysis\n",
    "import numpy as np\n",
    "import pandas as pd\n",
    "import matplotlib.pyplot as plt\n",
    "from sklearn.model_selection import train_test_split\n",
    "from sklearn.ensemble import RandomForestClassifier\n",
    "from sklearn.metrics import classification_report, confusion_matrix\n",
    "import seaborn as sns\n",
    "np.random.seed(7)"
   ],
   "outputs": [],
   "execution_count": 1
  },
  {
   "metadata": {
    "ExecuteTime": {
     "end_time": "2025-08-27T12:47:19.085259Z",
     "start_time": "2025-08-27T12:47:19.082140Z"
    }
   },
   "cell_type": "code",
   "source": [
    "# Load data\n",
    "df = pd.read_csv('/Users/billqiu/bootcamp_Zhiang_Qiu/project/data/raw/api_source-alpha_symbol-MSFT_20250820-142556.csv')"
   ],
   "id": "5844e7930b6afc3c",
   "outputs": [],
   "execution_count": 2
  },
  {
   "metadata": {
    "ExecuteTime": {
     "end_time": "2025-08-27T12:47:19.092603Z",
     "start_time": "2025-08-27T12:47:19.089679Z"
    }
   },
   "cell_type": "code",
   "source": [
    "# Create features\n",
    "df['ret'] = df['adj_close'].pct_change().fillna(0.0)\n",
    "df['ma_20'] = df['adj_close'].rolling(20).mean()\n",
    "df['volatility'] = df['ret'].rolling(21).std()"
   ],
   "id": "7afbb9c4f39fa1a8",
   "outputs": [],
   "execution_count": 3
  },
  {
   "metadata": {
    "ExecuteTime": {
     "end_time": "2025-08-27T12:47:19.097143Z",
     "start_time": "2025-08-27T12:47:19.094918Z"
    }
   },
   "cell_type": "code",
   "source": [
    "# Make a prediction column which shows whether the next day's return is positive\n",
    "df.loc[:,\"pred\"] = (df[\"ret\"].shift(-1) > 0).astype(int)\n",
    "df = df.dropna()"
   ],
   "id": "cf71d8f953b13a68",
   "outputs": [],
   "execution_count": 4
  },
  {
   "metadata": {
    "ExecuteTime": {
     "end_time": "2025-08-27T12:47:19.100620Z",
     "start_time": "2025-08-27T12:47:19.099225Z"
    }
   },
   "cell_type": "code",
   "source": [
    "# # Apply the features\n",
    "# X = df[['ma_20','volatility']]\n",
    "# Y = df['pred']\n",
    "#\n",
    "# # Train Test Split\n",
    "# X_train, X_test, y_train, y_test = train_test_split(X, Y)\n",
    "# rand_frst_clf = RandomForestClassifier(n_estimators = 200)\n",
    "#\n",
    "# # Fit\n",
    "# rand_frst_clf.fit(X_train, y_train)\n",
    "#\n",
    "# # Predict\n",
    "# y_pred = rand_frst_clf.predict(X_test)"
   ],
   "id": "222811673b8e9616",
   "outputs": [],
   "execution_count": 5
  },
  {
   "metadata": {
    "ExecuteTime": {
     "end_time": "2025-08-27T12:50:18.288156Z",
     "start_time": "2025-08-27T12:50:18.272161Z"
    }
   },
   "cell_type": "code",
   "source": [
    "import sys\n",
    "sys.path.append(\"/Users/billqiu/bootcamp_Zhiang_Qiu/project/src/utils.py\")\n",
    "\n",
    "from utils.py import train_random_forest\n",
    "model, X_test, y_test, y_pred = train_random_forest(df, feature_cols=['ma_20', 'volatility'], target_col='pred', n_estimators=200)"
   ],
   "id": "393be166194dead6",
   "outputs": [
    {
     "ename": "ModuleNotFoundError",
     "evalue": "No module named 'utils'",
     "output_type": "error",
     "traceback": [
      "\u001B[0;31m---------------------------------------------------------------------------\u001B[0m",
      "\u001B[0;31mModuleNotFoundError\u001B[0m                       Traceback (most recent call last)",
      "Cell \u001B[0;32mIn[9], line 4\u001B[0m\n\u001B[1;32m      1\u001B[0m \u001B[38;5;28;01mimport\u001B[39;00m\u001B[38;5;250m \u001B[39m\u001B[38;5;21;01msys\u001B[39;00m\n\u001B[1;32m      2\u001B[0m sys\u001B[38;5;241m.\u001B[39mpath\u001B[38;5;241m.\u001B[39mappend(\u001B[38;5;124m\"\u001B[39m\u001B[38;5;124m/Users/billqiu/bootcamp_Zhiang_Qiu/project/src/utils.py\u001B[39m\u001B[38;5;124m\"\u001B[39m)\n\u001B[0;32m----> 4\u001B[0m \u001B[38;5;28;01mfrom\u001B[39;00m\u001B[38;5;250m \u001B[39m\u001B[38;5;21;01mutils\u001B[39;00m\u001B[38;5;21;01m.\u001B[39;00m\u001B[38;5;21;01mpy\u001B[39;00m\u001B[38;5;250m \u001B[39m\u001B[38;5;28;01mimport\u001B[39;00m train_random_forest\n\u001B[1;32m      5\u001B[0m model, X_test, y_test, y_pred \u001B[38;5;241m=\u001B[39m train_random_forest(df, feature_cols\u001B[38;5;241m=\u001B[39m[\u001B[38;5;124m'\u001B[39m\u001B[38;5;124mma_20\u001B[39m\u001B[38;5;124m'\u001B[39m, \u001B[38;5;124m'\u001B[39m\u001B[38;5;124mvolatility\u001B[39m\u001B[38;5;124m'\u001B[39m], target_col\u001B[38;5;241m=\u001B[39m\u001B[38;5;124m'\u001B[39m\u001B[38;5;124mpred\u001B[39m\u001B[38;5;124m'\u001B[39m, n_estimators\u001B[38;5;241m=\u001B[39m\u001B[38;5;241m200\u001B[39m)\n",
      "\u001B[0;31mModuleNotFoundError\u001B[0m: No module named 'utils'"
     ]
    }
   ],
   "execution_count": 9
  },
  {
   "metadata": {
    "ExecuteTime": {
     "end_time": "2025-08-27T12:47:19.235765Z",
     "start_time": "2025-08-27T12:19:44.342217Z"
    }
   },
   "cell_type": "code",
   "source": "model, X_test, y_test, y_pred = train_random_forest(df, feature_cols=['ma_20', 'volatility'], target_col='pred', n_estimators=200)",
   "id": "87240cec30a74f56",
   "outputs": [],
   "execution_count": 40
  },
  {
   "metadata": {
    "ExecuteTime": {
     "end_time": "2025-08-27T12:47:19.256129Z",
     "start_time": "2025-08-27T12:19:50.732135Z"
    }
   },
   "cell_type": "code",
   "source": [
    "# Visualization\n",
    "print(classification_report(y_test, y_pred))\n",
    "cm = confusion_matrix(y_test, y_pred)\n",
    "sns.heatmap(cm, annot=True, fmt='d'); plt.title('Confusion Matrix'); plt.show()"
   ],
   "id": "6d6d1c648f112990",
   "outputs": [
    {
     "name": "stdout",
     "output_type": "stream",
     "text": [
      "              precision    recall  f1-score   support\n",
      "\n",
      "           0       0.33      0.50      0.40         6\n",
      "           1       0.73      0.57      0.64        14\n",
      "\n",
      "    accuracy                           0.55        20\n",
      "   macro avg       0.53      0.54      0.52        20\n",
      "weighted avg       0.61      0.55      0.57        20\n",
      "\n"
     ]
    },
    {
     "data": {
      "text/plain": [
       "<Figure size 640x480 with 2 Axes>"
      ],
      "image/png": "[encoded data removed]"
     },
     "metadata": {},
     "output_type": "display_data"
    }
   ],
   "execution_count": 41
  },
  {
   "metadata": {
    "ExecuteTime": {
     "end_time": "2025-08-27T12:47:19.272710Z",
     "start_time": "2025-08-27T11:43:06.320926Z"
    }
   },
   "cell_type": "code",
   "source": "print(\"Basic analysis complete.\")",
   "id": "2b06d1345590519d",
   "outputs": [
    {
     "name": "stdout",
     "output_type": "stream",
     "text": [
      "Basic analysis complete.\n"
     ]
    }
   ],
   "execution_count": 36
  },
  {
   "metadata": {
    "ExecuteTime": {
     "end_time": "2025-08-27T12:47:19.273225Z",
     "start_time": "2025-08-27T11:43:23.766442Z"
    }
   },
   "cell_type": "code",
   "source": "print(\"Notebook cleaned and ready for handoff.\")",
   "id": "c17d3d5db4157229",
   "outputs": [
    {
     "name": "stdout",
     "output_type": "stream",
     "text": [
      "Notebook cleaned and ready for handoff.\n"
     ]
    }
   ],
   "execution_count": 37
  },
  {
   "metadata": {},
   "cell_type": "code",
   "outputs": [],
   "execution_count": null,
   "source": "",
   "id": "3eef8ba13152b9bc"
  }
 ],
 "metadata": {
  "kernelspec": {
   "display_name": "Python 3",
   "language": "python",
   "name": "python3"
  },
  "language_info": {
   "codemirror_mode": {
    "name": "ipython",
    "version": 2
   },
   "file_extension": ".py",
   "mimetype": "text/x-python",
   "name": "python",
   "nbconvert_exporter": "python",
   "pygments_lexer": "ipython2",
   "version": "2.7.6"
  }
 },
 "nbformat": 4,
 "nbformat_minor": 5
}
