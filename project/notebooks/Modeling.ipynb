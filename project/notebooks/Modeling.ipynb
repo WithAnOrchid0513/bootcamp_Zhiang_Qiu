{
 "cells": [
  {
   "cell_type": "code",
   "id": "initial_id",
   "metadata": {
    "collapsed": true,
    "ExecuteTime": {
     "end_time": "2025-08-24T14:47:19.578069Z",
     "start_time": "2025-08-24T14:47:19.333684Z"
    }
   },
   "source": [
    "# Imports\n",
    "import numpy as np, pandas as pd\n",
    "import matplotlib.pyplot as plt\n",
    "import seaborn as sns\n",
    "from sklearn.pipeline import Pipeline, make_pipeline\n",
    "from sklearn.preprocessing import StandardScaler\n",
    "from sklearn.linear_model import LinearRegression, LogisticRegression\n",
    "from sklearn.tree import DecisionTreeClassifier\n",
    "from sklearn.metrics import mean_absolute_error, mean_squared_error, classification_report, confusion_matrix\n",
    "from sklearn.model_selection import train_test_split, TimeSeriesSplit\n",
    "np.random.seed(7); sns.set(); plt.rcParams['figure.figsize']=(9,4)"
   ],
   "outputs": [],
   "execution_count": 1
  },
  {
   "metadata": {
    "ExecuteTime": {
     "end_time": "2025-08-24T14:47:36.758083Z",
     "start_time": "2025-08-24T14:47:36.749934Z"
    }
   },
   "cell_type": "code",
   "source": "df = pd.read_csv('/Users/billqiu/bootcamp_Zhiang_Qiu/project/data/raw/api_source-alpha_symbol-MSFT_20250820-142556.csv')",
   "id": "d998e27bb7bdebb4",
   "outputs": [],
   "execution_count": 2
  },
  {
   "metadata": {
    "ExecuteTime": {
     "end_time": "2025-08-24T14:48:04.489500Z",
     "start_time": "2025-08-24T14:48:04.482603Z"
    }
   },
   "cell_type": "code",
   "source": "df.head()",
   "id": "2de44e59a55a6fdf",
   "outputs": [
    {
     "data": {
      "text/plain": [
       "         date  adj_close\n",
       "0  2025-03-27     390.58\n",
       "1  2025-03-28     378.80\n",
       "2  2025-03-31     375.39\n",
       "3  2025-04-01     382.19\n",
       "4  2025-04-02     382.14"
      ],
      "text/html": [
       "<div>\n",
       "<style scoped>\n",
       "    .dataframe tbody tr th:only-of-type {\n",
       "        vertical-align: middle;\n",
       "    }\n",
       "\n",
       "    .dataframe tbody tr th {\n",
       "        vertical-align: top;\n",
       "    }\n",
       "\n",
       "    .dataframe thead th {\n",
       "        text-align: right;\n",
       "    }\n",
       "</style>\n",
       "<table border=\"1\" class=\"dataframe\">\n",
       "  <thead>\n",
       "    <tr style=\"text-align: right;\">\n",
       "      <th></th>\n",
       "      <th>date</th>\n",
       "      <th>adj_close</th>\n",
       "    </tr>\n",
       "  </thead>\n",
       "  <tbody>\n",
       "    <tr>\n",
       "      <th>0</th>\n",
       "      <td>2025-03-27</td>\n",
       "      <td>390.58</td>\n",
       "    </tr>\n",
       "    <tr>\n",
       "      <th>1</th>\n",
       "      <td>2025-03-28</td>\n",
       "      <td>378.80</td>\n",
       "    </tr>\n",
       "    <tr>\n",
       "      <th>2</th>\n",
       "      <td>2025-03-31</td>\n",
       "      <td>375.39</td>\n",
       "    </tr>\n",
       "    <tr>\n",
       "      <th>3</th>\n",
       "      <td>2025-04-01</td>\n",
       "      <td>382.19</td>\n",
       "    </tr>\n",
       "    <tr>\n",
       "      <th>4</th>\n",
       "      <td>2025-04-02</td>\n",
       "      <td>382.14</td>\n",
       "    </tr>\n",
       "  </tbody>\n",
       "</table>\n",
       "</div>"
      ]
     },
     "execution_count": 4,
     "metadata": {},
     "output_type": "execute_result"
    }
   ],
   "execution_count": 4
  },
  {
   "metadata": {
    "ExecuteTime": {
     "end_time": "2025-08-24T14:48:25.478694Z",
     "start_time": "2025-08-24T14:48:25.462238Z"
    }
   },
   "cell_type": "code",
   "source": [
    "df['ret'] = df['adj_close'].pct_change().fillna(0.0)\n",
    "df['log_ret'] = np.log1p(df['ret'])\n",
    "df.head()"
   ],
   "id": "1758c93b28fa0e45",
   "outputs": [
    {
     "data": {
      "text/plain": [
       "         date  adj_close       ret   log_ret\n",
       "0  2025-03-27     390.58  0.000000  0.000000\n",
       "1  2025-03-28     378.80 -0.030160 -0.030624\n",
       "2  2025-03-31     375.39 -0.009002 -0.009043\n",
       "3  2025-04-01     382.19  0.018114  0.017952\n",
       "4  2025-04-02     382.14 -0.000131 -0.000131"
      ],
      "text/html": [
       "<div>\n",
       "<style scoped>\n",
       "    .dataframe tbody tr th:only-of-type {\n",
       "        vertical-align: middle;\n",
       "    }\n",
       "\n",
       "    .dataframe tbody tr th {\n",
       "        vertical-align: top;\n",
       "    }\n",
       "\n",
       "    .dataframe thead th {\n",
       "        text-align: right;\n",
       "    }\n",
       "</style>\n",
       "<table border=\"1\" class=\"dataframe\">\n",
       "  <thead>\n",
       "    <tr style=\"text-align: right;\">\n",
       "      <th></th>\n",
       "      <th>date</th>\n",
       "      <th>adj_close</th>\n",
       "      <th>ret</th>\n",
       "      <th>log_ret</th>\n",
       "    </tr>\n",
       "  </thead>\n",
       "  <tbody>\n",
       "    <tr>\n",
       "      <th>0</th>\n",
       "      <td>2025-03-27</td>\n",
       "      <td>390.58</td>\n",
       "      <td>0.000000</td>\n",
       "      <td>0.000000</td>\n",
       "    </tr>\n",
       "    <tr>\n",
       "      <th>1</th>\n",
       "      <td>2025-03-28</td>\n",
       "      <td>378.80</td>\n",
       "      <td>-0.030160</td>\n",
       "      <td>-0.030624</td>\n",
       "    </tr>\n",
       "    <tr>\n",
       "      <th>2</th>\n",
       "      <td>2025-03-31</td>\n",
       "      <td>375.39</td>\n",
       "      <td>-0.009002</td>\n",
       "      <td>-0.009043</td>\n",
       "    </tr>\n",
       "    <tr>\n",
       "      <th>3</th>\n",
       "      <td>2025-04-01</td>\n",
       "      <td>382.19</td>\n",
       "      <td>0.018114</td>\n",
       "      <td>0.017952</td>\n",
       "    </tr>\n",
       "    <tr>\n",
       "      <th>4</th>\n",
       "      <td>2025-04-02</td>\n",
       "      <td>382.14</td>\n",
       "      <td>-0.000131</td>\n",
       "      <td>-0.000131</td>\n",
       "    </tr>\n",
       "  </tbody>\n",
       "</table>\n",
       "</div>"
      ]
     },
     "execution_count": 5,
     "metadata": {},
     "output_type": "execute_result"
    }
   ],
   "execution_count": 5
  },
  {
   "metadata": {
    "ExecuteTime": {
     "end_time": "2025-08-24T14:49:30.746020Z",
     "start_time": "2025-08-24T14:49:30.731746Z"
    }
   },
   "cell_type": "code",
   "source": [
    "df['lag_1'] = df['ret'].shift(1)\n",
    "df['roll_mean_5'] = df['ret'].rolling(5).mean().shift(1)\n",
    "# monthly rolling std\n",
    "df['roll_std_21'] = df['log_ret'].rolling(21).std().shift(1)\n",
    "# momentum\n",
    "df['momentum'] = df['adj_close'] - df['adj_close'].shift(1)\n",
    "df['y_next_ret'] = df['ret'].shift(-1)\n",
    "df['y_up'] = (df['y_next_ret']>0).astype(int)\n",
    "df_feat = df.dropna().copy()\n",
    "df_feat.head()"
   ],
   "id": "a59d83b70aa0aac",
   "outputs": [
    {
     "data": {
      "text/plain": [
       "          date  adj_close       ret   log_ret     lag_1  roll_mean_5  \\\n",
       "21  2025-04-28     391.16 -0.001761 -0.001762  0.011748     0.012952   \n",
       "22  2025-04-29     394.04  0.007363  0.007336 -0.001761     0.017310   \n",
       "23  2025-04-30     395.26  0.003096  0.003091  0.007363     0.014494   \n",
       "24  2025-05-01     425.40  0.076254  0.073486  0.003096     0.010986   \n",
       "25  2025-05-02     435.28  0.023225  0.022960  0.076254     0.019340   \n",
       "\n",
       "    roll_std_21  momentum  y_next_ret  y_up  \n",
       "21     0.029841     -0.69    0.007363     1  \n",
       "22     0.029844      2.88    0.003096     1  \n",
       "23     0.029030      1.22    0.076254     1  \n",
       "24     0.028923     30.14    0.023225     1  \n",
       "25     0.032702      9.88    0.002045     1  "
      ],
      "text/html": [
       "<div>\n",
       "<style scoped>\n",
       "    .dataframe tbody tr th:only-of-type {\n",
       "        vertical-align: middle;\n",
       "    }\n",
       "\n",
       "    .dataframe tbody tr th {\n",
       "        vertical-align: top;\n",
       "    }\n",
       "\n",
       "    .dataframe thead th {\n",
       "        text-align: right;\n",
       "    }\n",
       "</style>\n",
       "<table border=\"1\" class=\"dataframe\">\n",
       "  <thead>\n",
       "    <tr style=\"text-align: right;\">\n",
       "      <th></th>\n",
       "      <th>date</th>\n",
       "      <th>adj_close</th>\n",
       "      <th>ret</th>\n",
       "      <th>log_ret</th>\n",
       "      <th>lag_1</th>\n",
       "      <th>roll_mean_5</th>\n",
       "      <th>roll_std_21</th>\n",
       "      <th>momentum</th>\n",
       "      <th>y_next_ret</th>\n",
       "      <th>y_up</th>\n",
       "    </tr>\n",
       "  </thead>\n",
       "  <tbody>\n",
       "    <tr>\n",
       "      <th>21</th>\n",
       "      <td>2025-04-28</td>\n",
       "      <td>391.16</td>\n",
       "      <td>-0.001761</td>\n",
       "      <td>-0.001762</td>\n",
       "      <td>0.011748</td>\n",
       "      <td>0.012952</td>\n",
       "      <td>0.029841</td>\n",
       "      <td>-0.69</td>\n",
       "      <td>0.007363</td>\n",
       "      <td>1</td>\n",
       "    </tr>\n",
       "    <tr>\n",
       "      <th>22</th>\n",
       "      <td>2025-04-29</td>\n",
       "      <td>394.04</td>\n",
       "      <td>0.007363</td>\n",
       "      <td>0.007336</td>\n",
       "      <td>-0.001761</td>\n",
       "      <td>0.017310</td>\n",
       "      <td>0.029844</td>\n",
       "      <td>2.88</td>\n",
       "      <td>0.003096</td>\n",
       "      <td>1</td>\n",
       "    </tr>\n",
       "    <tr>\n",
       "      <th>23</th>\n",
       "      <td>2025-04-30</td>\n",
       "      <td>395.26</td>\n",
       "      <td>0.003096</td>\n",
       "      <td>0.003091</td>\n",
       "      <td>0.007363</td>\n",
       "      <td>0.014494</td>\n",
       "      <td>0.029030</td>\n",
       "      <td>1.22</td>\n",
       "      <td>0.076254</td>\n",
       "      <td>1</td>\n",
       "    </tr>\n",
       "    <tr>\n",
       "      <th>24</th>\n",
       "      <td>2025-05-01</td>\n",
       "      <td>425.40</td>\n",
       "      <td>0.076254</td>\n",
       "      <td>0.073486</td>\n",
       "      <td>0.003096</td>\n",
       "      <td>0.010986</td>\n",
       "      <td>0.028923</td>\n",
       "      <td>30.14</td>\n",
       "      <td>0.023225</td>\n",
       "      <td>1</td>\n",
       "    </tr>\n",
       "    <tr>\n",
       "      <th>25</th>\n",
       "      <td>2025-05-02</td>\n",
       "      <td>435.28</td>\n",
       "      <td>0.023225</td>\n",
       "      <td>0.022960</td>\n",
       "      <td>0.076254</td>\n",
       "      <td>0.019340</td>\n",
       "      <td>0.032702</td>\n",
       "      <td>9.88</td>\n",
       "      <td>0.002045</td>\n",
       "      <td>1</td>\n",
       "    </tr>\n",
       "  </tbody>\n",
       "</table>\n",
       "</div>"
      ]
     },
     "execution_count": 6,
     "metadata": {},
     "output_type": "execute_result"
    }
   ],
   "execution_count": 6
  },
  {
   "metadata": {
    "ExecuteTime": {
     "end_time": "2025-08-24T14:50:06.553130Z",
     "start_time": "2025-08-24T14:50:06.548954Z"
    }
   },
   "cell_type": "code",
   "source": [
    "# Time-aware split\n",
    "cut=int(len(df_feat)*0.8)\n",
    "train, test = df_feat.iloc[:cut], df_feat.iloc[cut:]\n",
    "features=['lag_1','roll_mean_5', 'roll_std_21', 'momentum']\n",
    "X_tr, X_te = train[features], test[features]\n",
    "y_tr_reg, y_te_reg = train['y_next_ret'], test['y_next_ret']\n",
    "y_tr_clf, y_te_clf = train['y_up'], test['y_up']"
   ],
   "id": "ed482c44254e5a8d",
   "outputs": [],
   "execution_count": 7
  },
  {
   "metadata": {
    "ExecuteTime": {
     "end_time": "2025-08-24T14:50:15.161521Z",
     "start_time": "2025-08-24T14:50:15.068565Z"
    }
   },
   "cell_type": "code",
   "source": [
    "# Track 2: Classification (up/down)\n",
    "clf = Pipeline([('scaler', StandardScaler()), ('logit', LogisticRegression(max_iter=1000))])\n",
    "clf.fit(X_tr, y_tr_clf)\n",
    "predc = clf.predict(X_te)\n",
    "print(classification_report(y_te_clf, predc))\n",
    "cm = confusion_matrix(y_te_clf, predc)\n",
    "sns.heatmap(cm, annot=True, fmt='d'); plt.title('Confusion Matrix'); plt.show()"
   ],
   "id": "2c36a4306395523a",
   "outputs": [
    {
     "name": "stdout",
     "output_type": "stream",
     "text": [
      "              precision    recall  f1-score   support\n",
      "\n",
      "           0       1.00      0.33      0.50         9\n",
      "           1       0.54      1.00      0.70         7\n",
      "\n",
      "    accuracy                           0.62        16\n",
      "   macro avg       0.77      0.67      0.60        16\n",
      "weighted avg       0.80      0.62      0.59        16\n",
      "\n"
     ]
    },
    {
     "data": {
      "text/plain": [
       "<Figure size 900x400 with 2 Axes>"
      ],
      "image/png": "[encoded data removed]"
     },
     "metadata": {},
     "output_type": "display_data"
    }
   ],
   "execution_count": 8
  },
  {
   "metadata": {},
   "cell_type": "markdown",
   "source": [
    "The following features are used:\n",
    "1. lag1: The adjusted close price of the previous trading day.\n",
    "2. roll_mean_5: The 5-period moving average of the return.\n",
    "3. roll_std_21: The rolling standard deviation over the past 21 periods, which is a proxy of one month.\n",
    "4. momentum: How the price changed in the past one day."
   ],
   "id": "3ac453f2e6e6984"
  },
  {
   "metadata": {},
   "cell_type": "markdown",
   "source": [
    "1 is a buy signal (positive next day return) and 0 is sell (negative next day return)\n",
    "\n",
    "The model fails on mainly two parts:\n",
    "1. half of the buy signals are actually false\n",
    "2. it did not capture 2/3 of the down signals\n",
    "\n",
    "The risk is that the model will invest when the market is actually going to go down.\n",
    "However, overall, the model still has a 0.62 predicting accuracy, which means it is better than randomly guessing (0.5).\n",
    "\n",
    "A potential next step is to size the positions, so that we can mitigate the negative effects."
   ],
   "id": "16c637b515f30c8a"
  }
 ],
 "metadata": {
  "kernelspec": {
   "display_name": "Python 3",
   "language": "python",
   "name": "python3"
  },
  "language_info": {
   "codemirror_mode": {
    "name": "ipython",
    "version": 2
   },
   "file_extension": ".py",
   "mimetype": "text/x-python",
   "name": "python",
   "nbconvert_exporter": "python",
   "pygments_lexer": "ipython2",
   "version": "2.7.6"
  }
 },
 "nbformat": 4,
 "nbformat_minor": 5
}
