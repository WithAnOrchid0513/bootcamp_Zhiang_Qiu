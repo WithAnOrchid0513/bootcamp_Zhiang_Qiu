{
 "cells": [
  {
   "cell_type": "code",
   "id": "initial_id",
   "metadata": {
    "collapsed": true,
    "ExecuteTime": {
     "end_time": "2025-08-27T02:52:47.727185Z",
     "start_time": "2025-08-27T02:52:47.718324Z"
    }
   },
   "source": [
    "import numpy as np\n",
    "import pandas as pd\n",
    "import matplotlib.pyplot as plt\n",
    "import os\n",
    "import sys\n",
    "from sklearn.model_selection import train_test_split\n",
    "from sklearn.ensemble import RandomForestClassifier\n",
    "from sklearn.metrics import mean_absolute_error, mean_squared_error, classification_report, confusion_matrix\n",
    "import seaborn as sns"
   ],
   "outputs": [],
   "execution_count": 61
  },
  {
   "metadata": {
    "ExecuteTime": {
     "end_time": "2025-08-27T02:52:47.741410Z",
     "start_time": "2025-08-27T02:52:47.734378Z"
    }
   },
   "cell_type": "code",
   "source": "df = pd.read_csv('/Users/billqiu/bootcamp_Zhiang_Qiu/project/data/raw/api_source-alpha_symbol-MSFT_20250820-142556.csv')",
   "id": "1d5bd04a486a0b08",
   "outputs": [],
   "execution_count": 62
  },
  {
   "metadata": {
    "ExecuteTime": {
     "end_time": "2025-08-27T02:52:47.754244Z",
     "start_time": "2025-08-27T02:52:47.746037Z"
    }
   },
   "cell_type": "code",
   "source": "df.info(), df.isna().sum()",
   "id": "506b1b246a931521",
   "outputs": [
    {
     "name": "stdout",
     "output_type": "stream",
     "text": [
      "<class 'pandas.core.frame.DataFrame'>\n",
      "RangeIndex: 100 entries, 0 to 99\n",
      "Data columns (total 2 columns):\n",
      " #   Column     Non-Null Count  Dtype  \n",
      "---  ------     --------------  -----  \n",
      " 0   date       100 non-null    object \n",
      " 1   adj_close  100 non-null    float64\n",
      "dtypes: float64(1), object(1)\n",
      "memory usage: 1.7+ KB\n"
     ]
    },
    {
     "data": {
      "text/plain": [
       "(None,\n",
       " date         0\n",
       " adj_close    0\n",
       " dtype: int64)"
      ]
     },
     "execution_count": 63,
     "metadata": {},
     "output_type": "execute_result"
    }
   ],
   "execution_count": 63
  },
  {
   "metadata": {
    "ExecuteTime": {
     "end_time": "2025-08-27T02:52:47.765453Z",
     "start_time": "2025-08-27T02:52:47.760122Z"
    }
   },
   "cell_type": "code",
   "source": "df.describe()",
   "id": "ed1ad6a4226c92e8",
   "outputs": [
    {
     "data": {
      "text/plain": [
       "       adj_close\n",
       "count   100.0000\n",
       "mean    460.0438\n",
       "std      52.9538\n",
       "min     354.5600\n",
       "25%     431.3325\n",
       "50%     470.6500\n",
       "75%     505.3575\n",
       "max     535.6400"
      ],
      "text/html": [
       "<div>\n",
       "<style scoped>\n",
       "    .dataframe tbody tr th:only-of-type {\n",
       "        vertical-align: middle;\n",
       "    }\n",
       "\n",
       "    .dataframe tbody tr th {\n",
       "        vertical-align: top;\n",
       "    }\n",
       "\n",
       "    .dataframe thead th {\n",
       "        text-align: right;\n",
       "    }\n",
       "</style>\n",
       "<table border=\"1\" class=\"dataframe\">\n",
       "  <thead>\n",
       "    <tr style=\"text-align: right;\">\n",
       "      <th></th>\n",
       "      <th>adj_close</th>\n",
       "    </tr>\n",
       "  </thead>\n",
       "  <tbody>\n",
       "    <tr>\n",
       "      <th>count</th>\n",
       "      <td>100.0000</td>\n",
       "    </tr>\n",
       "    <tr>\n",
       "      <th>mean</th>\n",
       "      <td>460.0438</td>\n",
       "    </tr>\n",
       "    <tr>\n",
       "      <th>std</th>\n",
       "      <td>52.9538</td>\n",
       "    </tr>\n",
       "    <tr>\n",
       "      <th>min</th>\n",
       "      <td>354.5600</td>\n",
       "    </tr>\n",
       "    <tr>\n",
       "      <th>25%</th>\n",
       "      <td>431.3325</td>\n",
       "    </tr>\n",
       "    <tr>\n",
       "      <th>50%</th>\n",
       "      <td>470.6500</td>\n",
       "    </tr>\n",
       "    <tr>\n",
       "      <th>75%</th>\n",
       "      <td>505.3575</td>\n",
       "    </tr>\n",
       "    <tr>\n",
       "      <th>max</th>\n",
       "      <td>535.6400</td>\n",
       "    </tr>\n",
       "  </tbody>\n",
       "</table>\n",
       "</div>"
      ]
     },
     "execution_count": 64,
     "metadata": {},
     "output_type": "execute_result"
    }
   ],
   "execution_count": 64
  },
  {
   "metadata": {
    "ExecuteTime": {
     "end_time": "2025-08-27T02:52:47.797278Z",
     "start_time": "2025-08-27T02:52:47.792763Z"
    }
   },
   "cell_type": "code",
   "source": [
    "df['ret'] = df['adj_close'].pct_change().fillna(0.0)\n",
    "df['log_ret'] = np.log1p(df['ret'])\n",
    "df.head()"
   ],
   "id": "528e51d330ed8636",
   "outputs": [
    {
     "data": {
      "text/plain": [
       "         date  adj_close       ret   log_ret\n",
       "0  2025-03-27     390.58  0.000000  0.000000\n",
       "1  2025-03-28     378.80 -0.030160 -0.030624\n",
       "2  2025-03-31     375.39 -0.009002 -0.009043\n",
       "3  2025-04-01     382.19  0.018114  0.017952\n",
       "4  2025-04-02     382.14 -0.000131 -0.000131"
      ],
      "text/html": [
       "<div>\n",
       "<style scoped>\n",
       "    .dataframe tbody tr th:only-of-type {\n",
       "        vertical-align: middle;\n",
       "    }\n",
       "\n",
       "    .dataframe tbody tr th {\n",
       "        vertical-align: top;\n",
       "    }\n",
       "\n",
       "    .dataframe thead th {\n",
       "        text-align: right;\n",
       "    }\n",
       "</style>\n",
       "<table border=\"1\" class=\"dataframe\">\n",
       "  <thead>\n",
       "    <tr style=\"text-align: right;\">\n",
       "      <th></th>\n",
       "      <th>date</th>\n",
       "      <th>adj_close</th>\n",
       "      <th>ret</th>\n",
       "      <th>log_ret</th>\n",
       "    </tr>\n",
       "  </thead>\n",
       "  <tbody>\n",
       "    <tr>\n",
       "      <th>0</th>\n",
       "      <td>2025-03-27</td>\n",
       "      <td>390.58</td>\n",
       "      <td>0.000000</td>\n",
       "      <td>0.000000</td>\n",
       "    </tr>\n",
       "    <tr>\n",
       "      <th>1</th>\n",
       "      <td>2025-03-28</td>\n",
       "      <td>378.80</td>\n",
       "      <td>-0.030160</td>\n",
       "      <td>-0.030624</td>\n",
       "    </tr>\n",
       "    <tr>\n",
       "      <th>2</th>\n",
       "      <td>2025-03-31</td>\n",
       "      <td>375.39</td>\n",
       "      <td>-0.009002</td>\n",
       "      <td>-0.009043</td>\n",
       "    </tr>\n",
       "    <tr>\n",
       "      <th>3</th>\n",
       "      <td>2025-04-01</td>\n",
       "      <td>382.19</td>\n",
       "      <td>0.018114</td>\n",
       "      <td>0.017952</td>\n",
       "    </tr>\n",
       "    <tr>\n",
       "      <th>4</th>\n",
       "      <td>2025-04-02</td>\n",
       "      <td>382.14</td>\n",
       "      <td>-0.000131</td>\n",
       "      <td>-0.000131</td>\n",
       "    </tr>\n",
       "  </tbody>\n",
       "</table>\n",
       "</div>"
      ]
     },
     "execution_count": 65,
     "metadata": {},
     "output_type": "execute_result"
    }
   ],
   "execution_count": 65
  },
  {
   "metadata": {
    "ExecuteTime": {
     "end_time": "2025-08-27T02:52:47.884042Z",
     "start_time": "2025-08-27T02:52:47.881129Z"
    }
   },
   "cell_type": "code",
   "source": [
    "# Rolling 5-day and 20-day moving averages are both important indicators that can be used for trend following strategies\n",
    "df['ma_5'] = df['adj_close'].rolling(5).mean()\n",
    "df['ma_20'] = df['adj_close'].rolling(20).mean()\n",
    "# Momentum: An important indicator for momentum based strategies\n",
    "df['momentum_week'] = df['adj_close'] - df['adj_close'].shift(5)\n",
    "# Volatility: A measure of risk\n",
    "df['volatility'] = df['ret'].rolling(21).std()"
   ],
   "id": "728bb0d53ae2bfa1",
   "outputs": [],
   "execution_count": 66
  },
  {
   "metadata": {
    "ExecuteTime": {
     "end_time": "2025-08-27T02:52:47.890187Z",
     "start_time": "2025-08-27T02:52:47.886884Z"
    }
   },
   "cell_type": "code",
   "source": [
    "# RSI feature\n",
    "rsi_window = 14\n",
    "delta = df['log_ret']\n",
    "gain = np.where(delta > 0, delta, 0)\n",
    "loss = np.where(delta < 0, -delta, 0)\n",
    "\n",
    "avg_gain = pd.Series(gain).rolling(rsi_window, min_periods=rsi_window).mean()\n",
    "avg_loss = pd.Series(loss).rolling(rsi_window, min_periods=rsi_window).mean()\n",
    "\n",
    "rs = avg_gain / avg_loss\n",
    "df.loc[:, \"rsi\"] = 100 - (100 / (1 + rs))"
   ],
   "id": "e4c1c5fb17fa0cd7",
   "outputs": [],
   "execution_count": 67
  },
  {
   "metadata": {
    "ExecuteTime": {
     "end_time": "2025-08-27T02:52:47.898113Z",
     "start_time": "2025-08-27T02:52:47.895149Z"
    }
   },
   "cell_type": "code",
   "source": [
    "# MACD feature\n",
    "macd_short, macd_long, macd_signal = 12, 26, 9\n",
    "exp1 = df['adj_close'].ewm(span=macd_short, adjust=False).mean()\n",
    "exp2 = df['adj_close'].ewm(span=macd_long, adjust=False).mean()\n",
    "df.loc[:, \"macd\"] = exp1 - exp2\n",
    "df.loc[:, \"macd_signal\"] = df[\"macd\"].ewm(span=macd_signal, adjust=False).mean()"
   ],
   "id": "6af9bf1e8ed5160d",
   "outputs": [],
   "execution_count": 68
  },
  {
   "metadata": {
    "ExecuteTime": {
     "end_time": "2025-08-27T02:52:47.902645Z",
     "start_time": "2025-08-27T02:52:47.900260Z"
    }
   },
   "cell_type": "code",
   "source": [
    "# Make a prediction column which shows whether the next day's return is positive\n",
    "df.loc[:,\"pred\"] = (df[\"ret\"].shift(-1) > 0).astype(int)\n",
    "df = df.dropna()"
   ],
   "id": "94db11bebc407518",
   "outputs": [],
   "execution_count": 69
  },
  {
   "metadata": {
    "ExecuteTime": {
     "end_time": "2025-08-27T02:52:47.997062Z",
     "start_time": "2025-08-27T02:52:47.904844Z"
    }
   },
   "cell_type": "code",
   "source": [
    "# Apply the features\n",
    "X = df[['momentum_week','volatility', 'rsi', 'macd', 'macd_signal']]\n",
    "Y = df['pred']\n",
    "\n",
    "# Train Test Split\n",
    "X_train, X_test, y_train, y_test = train_test_split(X, Y)\n",
    "rand_frst_clf = RandomForestClassifier(n_estimators = 200)\n",
    "\n",
    "# Fit\n",
    "rand_frst_clf.fit(X_train, y_train)\n",
    "\n",
    "# Predict\n",
    "y_pred = rand_frst_clf.predict(X_test)"
   ],
   "id": "4cdc5d05996d0544",
   "outputs": [],
   "execution_count": 70
  },
  {
   "metadata": {
    "ExecuteTime": {
     "end_time": "2025-08-27T02:52:48.059253Z",
     "start_time": "2025-08-27T02:52:48.000887Z"
    }
   },
   "cell_type": "code",
   "source": [
    "print(classification_report(y_test, y_pred))\n",
    "cm = confusion_matrix(y_test, y_pred)\n",
    "sns.heatmap(cm, annot=True, fmt='d'); plt.title('Confusion Matrix'); plt.show()"
   ],
   "id": "6d685e2625d79b8f",
   "outputs": [
    {
     "name": "stdout",
     "output_type": "stream",
     "text": [
      "              precision    recall  f1-score   support\n",
      "\n",
      "           0       0.44      0.44      0.44         9\n",
      "           1       0.55      0.55      0.55        11\n",
      "\n",
      "    accuracy                           0.50        20\n",
      "   macro avg       0.49      0.49      0.49        20\n",
      "weighted avg       0.50      0.50      0.50        20\n",
      "\n"
     ]
    },
    {
     "data": {
      "text/plain": [
       "<Figure size 640x480 with 2 Axes>"
      ],
      "image/png": "[encoded data removed]"
     },
     "metadata": {},
     "output_type": "display_data"
    }
   ],
   "execution_count": 71
  },
  {
   "metadata": {},
   "cell_type": "markdown",
   "source": "Results: When the model predicts \"down\", it’s right 44% of the time, when it predicts \"up\", it’s right 73% of the time. The overall accuracy is higher than 50%, which shows better performance than random guessing. However, this model can be improved by adding more rewarded features or using alternative models.",
   "id": "e97d9ff8d7a8f3dd"
  }
 ],
 "metadata": {
  "kernelspec": {
   "display_name": "Python 3",
   "language": "python",
   "name": "python3"
  },
  "language_info": {
   "codemirror_mode": {
    "name": "ipython",
    "version": 2
   },
   "file_extension": ".py",
   "mimetype": "text/x-python",
   "name": "python",
   "nbconvert_exporter": "python",
   "pygments_lexer": "ipython2",
   "version": "2.7.6"
  }
 },
 "nbformat": 4,
 "nbformat_minor": 5
}
