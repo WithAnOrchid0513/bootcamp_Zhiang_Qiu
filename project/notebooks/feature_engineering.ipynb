{
 "cells": [
  {
   "cell_type": "code",
   "id": "initial_id",
   "metadata": {
    "collapsed": true,
    "ExecuteTime": {
     "end_time": "2025-08-22T00:06:28.206499Z",
     "start_time": "2025-08-22T00:06:28.204793Z"
    }
   },
   "source": "import numpy as np, pandas as pd",
   "outputs": [],
   "execution_count": 1
  },
  {
   "metadata": {
    "ExecuteTime": {
     "end_time": "2025-08-22T00:06:28.842860Z",
     "start_time": "2025-08-22T00:06:28.836541Z"
    }
   },
   "cell_type": "code",
   "source": "df = pd.read_csv('/Users/billqiu/bootcamp_Zhiang_Qiu/project/data/raw/api_source-alpha_symbol-MSFT_20250820-142556.csv')",
   "id": "e00498ff172f9559",
   "outputs": [],
   "execution_count": 2
  },
  {
   "metadata": {
    "ExecuteTime": {
     "end_time": "2025-08-22T00:06:37.146152Z",
     "start_time": "2025-08-22T00:06:37.140839Z"
    }
   },
   "cell_type": "code",
   "source": [
    "# Create daily return column\n",
    "df['return'] = df['adj_close'].pct_change()\n",
    "\n",
    "# Drop NA\n",
    "df = df.dropna()"
   ],
   "id": "2568b09806a073c1",
   "outputs": [],
   "execution_count": 3
  },
  {
   "metadata": {
    "ExecuteTime": {
     "end_time": "2025-08-22T00:08:09.388414Z",
     "start_time": "2025-08-22T00:08:09.382302Z"
    }
   },
   "cell_type": "code",
   "source": [
    "# Rolling 5-day and 20-day moving averages are both important indicators that can be used for trend following strategies\n",
    "df['ma_5'] = df['adj_close'].rolling(5).mean()\n",
    "df['ma_20'] = df['adj_close'].rolling(20).mean()"
   ],
   "id": "974059ca042af0b6",
   "outputs": [],
   "execution_count": 4
  },
  {
   "metadata": {
    "ExecuteTime": {
     "end_time": "2025-08-22T00:08:10.940546Z",
     "start_time": "2025-08-22T00:08:10.938386Z"
    }
   },
   "cell_type": "code",
   "source": [
    "# Momentum: An important indicator for momentum based strategies\n",
    "df['momentum_week'] = df['adj_close'] - df['adj_close'].shift(5)"
   ],
   "id": "8e4af87f7a8be2f7",
   "outputs": [],
   "execution_count": 5
  },
  {
   "metadata": {
    "ExecuteTime": {
     "end_time": "2025-08-22T00:08:26.939240Z",
     "start_time": "2025-08-22T00:08:26.934333Z"
    }
   },
   "cell_type": "code",
   "source": [
    "# Volatility: A measure of risk\n",
    "df['volatility'] = df['return'].rolling(21).std()"
   ],
   "id": "909c7974e9c205fd",
   "outputs": [],
   "execution_count": 6
  },
  {
   "metadata": {
    "ExecuteTime": {
     "end_time": "2025-08-22T00:09:04.336913Z",
     "start_time": "2025-08-22T00:09:04.334365Z"
    }
   },
   "cell_type": "code",
   "source": "df = df.dropna()",
   "id": "278455c3296d4f11",
   "outputs": [],
   "execution_count": 8
  },
  {
   "metadata": {
    "ExecuteTime": {
     "end_time": "2025-08-22T00:09:05.679750Z",
     "start_time": "2025-08-22T00:09:05.670524Z"
    }
   },
   "cell_type": "code",
   "source": "df",
   "id": "29dcd5535176903b",
   "outputs": [
    {
     "data": {
      "text/plain": [
       "          date  adj_close    return     ma_5     ma_20  momentum_week  \\\n",
       "21  2025-04-28     391.16 -0.001761  382.304  376.4475          32.04   \n",
       "22  2025-04-29     394.04  0.007363  387.748  377.3800          27.22   \n",
       "23  2025-04-30     395.26  0.003096  391.922  378.0335          20.87   \n",
       "24  2025-05-01     425.40  0.076254  399.542  380.1965          38.10   \n",
       "25  2025-05-02     435.28  0.023225  408.228  383.3050          43.43   \n",
       "..         ...        ...       ...      ...       ...            ...   \n",
       "95  2025-08-13     520.58 -0.016363  522.894  518.3130          -4.36   \n",
       "96  2025-08-14     522.48  0.003650  523.222  518.8520           1.64   \n",
       "97  2025-08-15     520.17 -0.004421  522.848  519.3580          -1.87   \n",
       "98  2025-08-18     517.10 -0.005902  521.914  519.7100          -4.67   \n",
       "99  2025-08-19     509.77 -0.014175  518.020  519.9350         -19.47   \n",
       "\n",
       "    volatility  \n",
       "21    0.030548  \n",
       "22    0.029752  \n",
       "23    0.029639  \n",
       "24    0.033587  \n",
       "25    0.033773  \n",
       "..         ...  \n",
       "95    0.013178  \n",
       "96    0.013179  \n",
       "97    0.013019  \n",
       "98    0.013074  \n",
       "99    0.013474  \n",
       "\n",
       "[79 rows x 7 columns]"
      ],
      "text/html": [
       "<div>\n",
       "<style scoped>\n",
       "    .dataframe tbody tr th:only-of-type {\n",
       "        vertical-align: middle;\n",
       "    }\n",
       "\n",
       "    .dataframe tbody tr th {\n",
       "        vertical-align: top;\n",
       "    }\n",
       "\n",
       "    .dataframe thead th {\n",
       "        text-align: right;\n",
       "    }\n",
       "</style>\n",
       "<table border=\"1\" class=\"dataframe\">\n",
       "  <thead>\n",
       "    <tr style=\"text-align: right;\">\n",
       "      <th></th>\n",
       "      <th>date</th>\n",
       "      <th>adj_close</th>\n",
       "      <th>return</th>\n",
       "      <th>ma_5</th>\n",
       "      <th>ma_20</th>\n",
       "      <th>momentum_week</th>\n",
       "      <th>volatility</th>\n",
       "    </tr>\n",
       "  </thead>\n",
       "  <tbody>\n",
       "    <tr>\n",
       "      <th>21</th>\n",
       "      <td>2025-04-28</td>\n",
       "      <td>391.16</td>\n",
       "      <td>-0.001761</td>\n",
       "      <td>382.304</td>\n",
       "      <td>376.4475</td>\n",
       "      <td>32.04</td>\n",
       "      <td>0.030548</td>\n",
       "    </tr>\n",
       "    <tr>\n",
       "      <th>22</th>\n",
       "      <td>2025-04-29</td>\n",
       "      <td>394.04</td>\n",
       "      <td>0.007363</td>\n",
       "      <td>387.748</td>\n",
       "      <td>377.3800</td>\n",
       "      <td>27.22</td>\n",
       "      <td>0.029752</td>\n",
       "    </tr>\n",
       "    <tr>\n",
       "      <th>23</th>\n",
       "      <td>2025-04-30</td>\n",
       "      <td>395.26</td>\n",
       "      <td>0.003096</td>\n",
       "      <td>391.922</td>\n",
       "      <td>378.0335</td>\n",
       "      <td>20.87</td>\n",
       "      <td>0.029639</td>\n",
       "    </tr>\n",
       "    <tr>\n",
       "      <th>24</th>\n",
       "      <td>2025-05-01</td>\n",
       "      <td>425.40</td>\n",
       "      <td>0.076254</td>\n",
       "      <td>399.542</td>\n",
       "      <td>380.1965</td>\n",
       "      <td>38.10</td>\n",
       "      <td>0.033587</td>\n",
       "    </tr>\n",
       "    <tr>\n",
       "      <th>25</th>\n",
       "      <td>2025-05-02</td>\n",
       "      <td>435.28</td>\n",
       "      <td>0.023225</td>\n",
       "      <td>408.228</td>\n",
       "      <td>383.3050</td>\n",
       "      <td>43.43</td>\n",
       "      <td>0.033773</td>\n",
       "    </tr>\n",
       "    <tr>\n",
       "      <th>...</th>\n",
       "      <td>...</td>\n",
       "      <td>...</td>\n",
       "      <td>...</td>\n",
       "      <td>...</td>\n",
       "      <td>...</td>\n",
       "      <td>...</td>\n",
       "      <td>...</td>\n",
       "    </tr>\n",
       "    <tr>\n",
       "      <th>95</th>\n",
       "      <td>2025-08-13</td>\n",
       "      <td>520.58</td>\n",
       "      <td>-0.016363</td>\n",
       "      <td>522.894</td>\n",
       "      <td>518.3130</td>\n",
       "      <td>-4.36</td>\n",
       "      <td>0.013178</td>\n",
       "    </tr>\n",
       "    <tr>\n",
       "      <th>96</th>\n",
       "      <td>2025-08-14</td>\n",
       "      <td>522.48</td>\n",
       "      <td>0.003650</td>\n",
       "      <td>523.222</td>\n",
       "      <td>518.8520</td>\n",
       "      <td>1.64</td>\n",
       "      <td>0.013179</td>\n",
       "    </tr>\n",
       "    <tr>\n",
       "      <th>97</th>\n",
       "      <td>2025-08-15</td>\n",
       "      <td>520.17</td>\n",
       "      <td>-0.004421</td>\n",
       "      <td>522.848</td>\n",
       "      <td>519.3580</td>\n",
       "      <td>-1.87</td>\n",
       "      <td>0.013019</td>\n",
       "    </tr>\n",
       "    <tr>\n",
       "      <th>98</th>\n",
       "      <td>2025-08-18</td>\n",
       "      <td>517.10</td>\n",
       "      <td>-0.005902</td>\n",
       "      <td>521.914</td>\n",
       "      <td>519.7100</td>\n",
       "      <td>-4.67</td>\n",
       "      <td>0.013074</td>\n",
       "    </tr>\n",
       "    <tr>\n",
       "      <th>99</th>\n",
       "      <td>2025-08-19</td>\n",
       "      <td>509.77</td>\n",
       "      <td>-0.014175</td>\n",
       "      <td>518.020</td>\n",
       "      <td>519.9350</td>\n",
       "      <td>-19.47</td>\n",
       "      <td>0.013474</td>\n",
       "    </tr>\n",
       "  </tbody>\n",
       "</table>\n",
       "<p>79 rows × 7 columns</p>\n",
       "</div>"
      ]
     },
     "execution_count": 9,
     "metadata": {},
     "output_type": "execute_result"
    }
   ],
   "execution_count": 9
  },
  {
   "metadata": {},
   "cell_type": "code",
   "outputs": [],
   "execution_count": null,
   "source": "",
   "id": "81e0b879840ab4b6"
  }
 ],
 "metadata": {
  "kernelspec": {
   "display_name": "Python 3",
   "language": "python",
   "name": "python3"
  },
  "language_info": {
   "codemirror_mode": {
    "name": "ipython",
    "version": 2
   },
   "file_extension": ".py",
   "mimetype": "text/x-python",
   "name": "python",
   "nbconvert_exporter": "python",
   "pygments_lexer": "ipython2",
   "version": "2.7.6"
  }
 },
 "nbformat": 4,
 "nbformat_minor": 5
}
